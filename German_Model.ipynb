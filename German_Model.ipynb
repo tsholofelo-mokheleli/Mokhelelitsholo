{
  "cells": [
    {
      "cell_type": "markdown",
      "metadata": {
        "id": "view-in-github",
        "colab_type": "text"
      },
      "source": [
        "<a href=\"https://colab.research.google.com/github/Mokhelelitsholo/Mokhelelitsholo/blob/main/German_Model.ipynb\" target=\"_parent\"><img src=\"https://colab.research.google.com/assets/colab-badge.svg\" alt=\"Open In Colab\"/></a>"
      ]
    },
    {
      "cell_type": "code",
      "execution_count": 1,
      "metadata": {
        "id": "19c41ce3"
      },
      "outputs": [],
      "source": [
        "#Load the librarys\n",
        "import pandas  as pd\n",
        "import numpy as np\n",
        "import seaborn as sns \n",
        "import matplotlib.pyplot as plt\n",
        "\n",
        "import warnings\n",
        "warnings.filterwarnings('ignore')\n",
        "cmap=sns.color_palette('Blues_r')\n",
        "\n",
        "#Importing the data\n",
        "df = pd.read_csv(\"German.csv\")"
      ],
      "id": "19c41ce3"
    },
    {
      "cell_type": "markdown",
      "source": [
        "# Descriptive Statistics"
      ],
      "metadata": {
        "id": "jWhjmmnXRZvm"
      },
      "id": "jWhjmmnXRZvm"
    },
    {
      "cell_type": "code",
      "execution_count": 2,
      "metadata": {
        "id": "2e1f9361",
        "scrolled": true,
        "colab": {
          "base_uri": "https://localhost:8080/",
          "height": 300
        },
        "outputId": "42e340c6-09e5-46a2-f1e3-6e98c0ef6e6e"
      },
      "outputs": [
        {
          "output_type": "execute_result",
          "data": {
            "text/plain": [
              "       Unnamed: 0      Age      Job  Credit amount  Duration\n",
              "count     1000.00  1000.00  1000.00        1000.00   1000.00\n",
              "mean       499.50    35.55     1.90        3271.26     20.90\n",
              "std        288.82    11.38     0.65        2822.74     12.06\n",
              "min          0.00    19.00     0.00         250.00      4.00\n",
              "25%        249.75    27.00     2.00        1365.50     12.00\n",
              "50%        499.50    33.00     2.00        2319.50     18.00\n",
              "75%        749.25    42.00     2.00        3972.25     24.00\n",
              "max        999.00    75.00     3.00       18424.00     72.00"
            ],
            "text/html": [
              "\n",
              "  <div id=\"df-e7350b98-006d-4bb6-b8d5-2975fde2790d\">\n",
              "    <div class=\"colab-df-container\">\n",
              "      <div>\n",
              "<style scoped>\n",
              "    .dataframe tbody tr th:only-of-type {\n",
              "        vertical-align: middle;\n",
              "    }\n",
              "\n",
              "    .dataframe tbody tr th {\n",
              "        vertical-align: top;\n",
              "    }\n",
              "\n",
              "    .dataframe thead th {\n",
              "        text-align: right;\n",
              "    }\n",
              "</style>\n",
              "<table border=\"1\" class=\"dataframe\">\n",
              "  <thead>\n",
              "    <tr style=\"text-align: right;\">\n",
              "      <th></th>\n",
              "      <th>Unnamed: 0</th>\n",
              "      <th>Age</th>\n",
              "      <th>Job</th>\n",
              "      <th>Credit amount</th>\n",
              "      <th>Duration</th>\n",
              "    </tr>\n",
              "  </thead>\n",
              "  <tbody>\n",
              "    <tr>\n",
              "      <th>count</th>\n",
              "      <td>1000.00</td>\n",
              "      <td>1000.00</td>\n",
              "      <td>1000.00</td>\n",
              "      <td>1000.00</td>\n",
              "      <td>1000.00</td>\n",
              "    </tr>\n",
              "    <tr>\n",
              "      <th>mean</th>\n",
              "      <td>499.50</td>\n",
              "      <td>35.55</td>\n",
              "      <td>1.90</td>\n",
              "      <td>3271.26</td>\n",
              "      <td>20.90</td>\n",
              "    </tr>\n",
              "    <tr>\n",
              "      <th>std</th>\n",
              "      <td>288.82</td>\n",
              "      <td>11.38</td>\n",
              "      <td>0.65</td>\n",
              "      <td>2822.74</td>\n",
              "      <td>12.06</td>\n",
              "    </tr>\n",
              "    <tr>\n",
              "      <th>min</th>\n",
              "      <td>0.00</td>\n",
              "      <td>19.00</td>\n",
              "      <td>0.00</td>\n",
              "      <td>250.00</td>\n",
              "      <td>4.00</td>\n",
              "    </tr>\n",
              "    <tr>\n",
              "      <th>25%</th>\n",
              "      <td>249.75</td>\n",
              "      <td>27.00</td>\n",
              "      <td>2.00</td>\n",
              "      <td>1365.50</td>\n",
              "      <td>12.00</td>\n",
              "    </tr>\n",
              "    <tr>\n",
              "      <th>50%</th>\n",
              "      <td>499.50</td>\n",
              "      <td>33.00</td>\n",
              "      <td>2.00</td>\n",
              "      <td>2319.50</td>\n",
              "      <td>18.00</td>\n",
              "    </tr>\n",
              "    <tr>\n",
              "      <th>75%</th>\n",
              "      <td>749.25</td>\n",
              "      <td>42.00</td>\n",
              "      <td>2.00</td>\n",
              "      <td>3972.25</td>\n",
              "      <td>24.00</td>\n",
              "    </tr>\n",
              "    <tr>\n",
              "      <th>max</th>\n",
              "      <td>999.00</td>\n",
              "      <td>75.00</td>\n",
              "      <td>3.00</td>\n",
              "      <td>18424.00</td>\n",
              "      <td>72.00</td>\n",
              "    </tr>\n",
              "  </tbody>\n",
              "</table>\n",
              "</div>\n",
              "      <button class=\"colab-df-convert\" onclick=\"convertToInteractive('df-e7350b98-006d-4bb6-b8d5-2975fde2790d')\"\n",
              "              title=\"Convert this dataframe to an interactive table.\"\n",
              "              style=\"display:none;\">\n",
              "        \n",
              "  <svg xmlns=\"http://www.w3.org/2000/svg\" height=\"24px\"viewBox=\"0 0 24 24\"\n",
              "       width=\"24px\">\n",
              "    <path d=\"M0 0h24v24H0V0z\" fill=\"none\"/>\n",
              "    <path d=\"M18.56 5.44l.94 2.06.94-2.06 2.06-.94-2.06-.94-.94-2.06-.94 2.06-2.06.94zm-11 1L8.5 8.5l.94-2.06 2.06-.94-2.06-.94L8.5 2.5l-.94 2.06-2.06.94zm10 10l.94 2.06.94-2.06 2.06-.94-2.06-.94-.94-2.06-.94 2.06-2.06.94z\"/><path d=\"M17.41 7.96l-1.37-1.37c-.4-.4-.92-.59-1.43-.59-.52 0-1.04.2-1.43.59L10.3 9.45l-7.72 7.72c-.78.78-.78 2.05 0 2.83L4 21.41c.39.39.9.59 1.41.59.51 0 1.02-.2 1.41-.59l7.78-7.78 2.81-2.81c.8-.78.8-2.07 0-2.86zM5.41 20L4 18.59l7.72-7.72 1.47 1.35L5.41 20z\"/>\n",
              "  </svg>\n",
              "      </button>\n",
              "      \n",
              "  <style>\n",
              "    .colab-df-container {\n",
              "      display:flex;\n",
              "      flex-wrap:wrap;\n",
              "      gap: 12px;\n",
              "    }\n",
              "\n",
              "    .colab-df-convert {\n",
              "      background-color: #E8F0FE;\n",
              "      border: none;\n",
              "      border-radius: 50%;\n",
              "      cursor: pointer;\n",
              "      display: none;\n",
              "      fill: #1967D2;\n",
              "      height: 32px;\n",
              "      padding: 0 0 0 0;\n",
              "      width: 32px;\n",
              "    }\n",
              "\n",
              "    .colab-df-convert:hover {\n",
              "      background-color: #E2EBFA;\n",
              "      box-shadow: 0px 1px 2px rgba(60, 64, 67, 0.3), 0px 1px 3px 1px rgba(60, 64, 67, 0.15);\n",
              "      fill: #174EA6;\n",
              "    }\n",
              "\n",
              "    [theme=dark] .colab-df-convert {\n",
              "      background-color: #3B4455;\n",
              "      fill: #D2E3FC;\n",
              "    }\n",
              "\n",
              "    [theme=dark] .colab-df-convert:hover {\n",
              "      background-color: #434B5C;\n",
              "      box-shadow: 0px 1px 3px 1px rgba(0, 0, 0, 0.15);\n",
              "      filter: drop-shadow(0px 1px 2px rgba(0, 0, 0, 0.3));\n",
              "      fill: #FFFFFF;\n",
              "    }\n",
              "  </style>\n",
              "\n",
              "      <script>\n",
              "        const buttonEl =\n",
              "          document.querySelector('#df-e7350b98-006d-4bb6-b8d5-2975fde2790d button.colab-df-convert');\n",
              "        buttonEl.style.display =\n",
              "          google.colab.kernel.accessAllowed ? 'block' : 'none';\n",
              "\n",
              "        async function convertToInteractive(key) {\n",
              "          const element = document.querySelector('#df-e7350b98-006d-4bb6-b8d5-2975fde2790d');\n",
              "          const dataTable =\n",
              "            await google.colab.kernel.invokeFunction('convertToInteractive',\n",
              "                                                     [key], {});\n",
              "          if (!dataTable) return;\n",
              "\n",
              "          const docLinkHtml = 'Like what you see? Visit the ' +\n",
              "            '<a target=\"_blank\" href=https://colab.research.google.com/notebooks/data_table.ipynb>data table notebook</a>'\n",
              "            + ' to learn more about interactive tables.';\n",
              "          element.innerHTML = '';\n",
              "          dataTable['output_type'] = 'display_data';\n",
              "          await google.colab.output.renderOutput(dataTable, element);\n",
              "          const docLink = document.createElement('div');\n",
              "          docLink.innerHTML = docLinkHtml;\n",
              "          element.appendChild(docLink);\n",
              "        }\n",
              "      </script>\n",
              "    </div>\n",
              "  </div>\n",
              "  "
            ]
          },
          "metadata": {},
          "execution_count": 2
        }
      ],
      "source": [
        "#Descriptive Statistics\n",
        "round(df.describe(),2)"
      ],
      "id": "2e1f9361"
    },
    {
      "cell_type": "code",
      "execution_count": 3,
      "metadata": {
        "id": "e592752a",
        "colab": {
          "base_uri": "https://localhost:8080/",
          "height": 206
        },
        "outputId": "8daaa829-9cf6-4dc8-af13-3de720563d0a"
      },
      "outputs": [
        {
          "output_type": "execute_result",
          "data": {
            "text/plain": [
              "   Unnamed: 0  Age     Sex  Job Housing Saving accounts Checking account  \\\n",
              "0           0   67    male    2     own             NaN           little   \n",
              "1           1   22  female    2     own          little         moderate   \n",
              "2           2   49    male    1     own          little              NaN   \n",
              "3           3   45    male    2    free          little           little   \n",
              "4           4   53    male    2    free          little           little   \n",
              "\n",
              "   Credit amount  Duration              Purpose  Risk  \n",
              "0           1169         6             radio/TV  good  \n",
              "1           5951        48             radio/TV   bad  \n",
              "2           2096        12            education  good  \n",
              "3           7882        42  furniture/equipment  good  \n",
              "4           4870        24                  car   bad  "
            ],
            "text/html": [
              "\n",
              "  <div id=\"df-c8303c64-618a-494f-b189-6f2ea2f8b36e\">\n",
              "    <div class=\"colab-df-container\">\n",
              "      <div>\n",
              "<style scoped>\n",
              "    .dataframe tbody tr th:only-of-type {\n",
              "        vertical-align: middle;\n",
              "    }\n",
              "\n",
              "    .dataframe tbody tr th {\n",
              "        vertical-align: top;\n",
              "    }\n",
              "\n",
              "    .dataframe thead th {\n",
              "        text-align: right;\n",
              "    }\n",
              "</style>\n",
              "<table border=\"1\" class=\"dataframe\">\n",
              "  <thead>\n",
              "    <tr style=\"text-align: right;\">\n",
              "      <th></th>\n",
              "      <th>Unnamed: 0</th>\n",
              "      <th>Age</th>\n",
              "      <th>Sex</th>\n",
              "      <th>Job</th>\n",
              "      <th>Housing</th>\n",
              "      <th>Saving accounts</th>\n",
              "      <th>Checking account</th>\n",
              "      <th>Credit amount</th>\n",
              "      <th>Duration</th>\n",
              "      <th>Purpose</th>\n",
              "      <th>Risk</th>\n",
              "    </tr>\n",
              "  </thead>\n",
              "  <tbody>\n",
              "    <tr>\n",
              "      <th>0</th>\n",
              "      <td>0</td>\n",
              "      <td>67</td>\n",
              "      <td>male</td>\n",
              "      <td>2</td>\n",
              "      <td>own</td>\n",
              "      <td>NaN</td>\n",
              "      <td>little</td>\n",
              "      <td>1169</td>\n",
              "      <td>6</td>\n",
              "      <td>radio/TV</td>\n",
              "      <td>good</td>\n",
              "    </tr>\n",
              "    <tr>\n",
              "      <th>1</th>\n",
              "      <td>1</td>\n",
              "      <td>22</td>\n",
              "      <td>female</td>\n",
              "      <td>2</td>\n",
              "      <td>own</td>\n",
              "      <td>little</td>\n",
              "      <td>moderate</td>\n",
              "      <td>5951</td>\n",
              "      <td>48</td>\n",
              "      <td>radio/TV</td>\n",
              "      <td>bad</td>\n",
              "    </tr>\n",
              "    <tr>\n",
              "      <th>2</th>\n",
              "      <td>2</td>\n",
              "      <td>49</td>\n",
              "      <td>male</td>\n",
              "      <td>1</td>\n",
              "      <td>own</td>\n",
              "      <td>little</td>\n",
              "      <td>NaN</td>\n",
              "      <td>2096</td>\n",
              "      <td>12</td>\n",
              "      <td>education</td>\n",
              "      <td>good</td>\n",
              "    </tr>\n",
              "    <tr>\n",
              "      <th>3</th>\n",
              "      <td>3</td>\n",
              "      <td>45</td>\n",
              "      <td>male</td>\n",
              "      <td>2</td>\n",
              "      <td>free</td>\n",
              "      <td>little</td>\n",
              "      <td>little</td>\n",
              "      <td>7882</td>\n",
              "      <td>42</td>\n",
              "      <td>furniture/equipment</td>\n",
              "      <td>good</td>\n",
              "    </tr>\n",
              "    <tr>\n",
              "      <th>4</th>\n",
              "      <td>4</td>\n",
              "      <td>53</td>\n",
              "      <td>male</td>\n",
              "      <td>2</td>\n",
              "      <td>free</td>\n",
              "      <td>little</td>\n",
              "      <td>little</td>\n",
              "      <td>4870</td>\n",
              "      <td>24</td>\n",
              "      <td>car</td>\n",
              "      <td>bad</td>\n",
              "    </tr>\n",
              "  </tbody>\n",
              "</table>\n",
              "</div>\n",
              "      <button class=\"colab-df-convert\" onclick=\"convertToInteractive('df-c8303c64-618a-494f-b189-6f2ea2f8b36e')\"\n",
              "              title=\"Convert this dataframe to an interactive table.\"\n",
              "              style=\"display:none;\">\n",
              "        \n",
              "  <svg xmlns=\"http://www.w3.org/2000/svg\" height=\"24px\"viewBox=\"0 0 24 24\"\n",
              "       width=\"24px\">\n",
              "    <path d=\"M0 0h24v24H0V0z\" fill=\"none\"/>\n",
              "    <path d=\"M18.56 5.44l.94 2.06.94-2.06 2.06-.94-2.06-.94-.94-2.06-.94 2.06-2.06.94zm-11 1L8.5 8.5l.94-2.06 2.06-.94-2.06-.94L8.5 2.5l-.94 2.06-2.06.94zm10 10l.94 2.06.94-2.06 2.06-.94-2.06-.94-.94-2.06-.94 2.06-2.06.94z\"/><path d=\"M17.41 7.96l-1.37-1.37c-.4-.4-.92-.59-1.43-.59-.52 0-1.04.2-1.43.59L10.3 9.45l-7.72 7.72c-.78.78-.78 2.05 0 2.83L4 21.41c.39.39.9.59 1.41.59.51 0 1.02-.2 1.41-.59l7.78-7.78 2.81-2.81c.8-.78.8-2.07 0-2.86zM5.41 20L4 18.59l7.72-7.72 1.47 1.35L5.41 20z\"/>\n",
              "  </svg>\n",
              "      </button>\n",
              "      \n",
              "  <style>\n",
              "    .colab-df-container {\n",
              "      display:flex;\n",
              "      flex-wrap:wrap;\n",
              "      gap: 12px;\n",
              "    }\n",
              "\n",
              "    .colab-df-convert {\n",
              "      background-color: #E8F0FE;\n",
              "      border: none;\n",
              "      border-radius: 50%;\n",
              "      cursor: pointer;\n",
              "      display: none;\n",
              "      fill: #1967D2;\n",
              "      height: 32px;\n",
              "      padding: 0 0 0 0;\n",
              "      width: 32px;\n",
              "    }\n",
              "\n",
              "    .colab-df-convert:hover {\n",
              "      background-color: #E2EBFA;\n",
              "      box-shadow: 0px 1px 2px rgba(60, 64, 67, 0.3), 0px 1px 3px 1px rgba(60, 64, 67, 0.15);\n",
              "      fill: #174EA6;\n",
              "    }\n",
              "\n",
              "    [theme=dark] .colab-df-convert {\n",
              "      background-color: #3B4455;\n",
              "      fill: #D2E3FC;\n",
              "    }\n",
              "\n",
              "    [theme=dark] .colab-df-convert:hover {\n",
              "      background-color: #434B5C;\n",
              "      box-shadow: 0px 1px 3px 1px rgba(0, 0, 0, 0.15);\n",
              "      filter: drop-shadow(0px 1px 2px rgba(0, 0, 0, 0.3));\n",
              "      fill: #FFFFFF;\n",
              "    }\n",
              "  </style>\n",
              "\n",
              "      <script>\n",
              "        const buttonEl =\n",
              "          document.querySelector('#df-c8303c64-618a-494f-b189-6f2ea2f8b36e button.colab-df-convert');\n",
              "        buttonEl.style.display =\n",
              "          google.colab.kernel.accessAllowed ? 'block' : 'none';\n",
              "\n",
              "        async function convertToInteractive(key) {\n",
              "          const element = document.querySelector('#df-c8303c64-618a-494f-b189-6f2ea2f8b36e');\n",
              "          const dataTable =\n",
              "            await google.colab.kernel.invokeFunction('convertToInteractive',\n",
              "                                                     [key], {});\n",
              "          if (!dataTable) return;\n",
              "\n",
              "          const docLinkHtml = 'Like what you see? Visit the ' +\n",
              "            '<a target=\"_blank\" href=https://colab.research.google.com/notebooks/data_table.ipynb>data table notebook</a>'\n",
              "            + ' to learn more about interactive tables.';\n",
              "          element.innerHTML = '';\n",
              "          dataTable['output_type'] = 'display_data';\n",
              "          await google.colab.output.renderOutput(dataTable, element);\n",
              "          const docLink = document.createElement('div');\n",
              "          docLink.innerHTML = docLinkHtml;\n",
              "          element.appendChild(docLink);\n",
              "        }\n",
              "      </script>\n",
              "    </div>\n",
              "  </div>\n",
              "  "
            ]
          },
          "metadata": {},
          "execution_count": 3
        }
      ],
      "source": [
        "#Looking the data\n",
        "df.head()"
      ],
      "id": "e592752a"
    },
    {
      "cell_type": "code",
      "source": [
        "# check data size and Missings values,type of data \n",
        "\n",
        "print(df.info())"
      ],
      "metadata": {
        "colab": {
          "base_uri": "https://localhost:8080/"
        },
        "id": "RQYBpxkGum5c",
        "outputId": "04391411-3f8c-4de3-bf0b-a429aa94186c"
      },
      "id": "RQYBpxkGum5c",
      "execution_count": 4,
      "outputs": [
        {
          "output_type": "stream",
          "name": "stdout",
          "text": [
            "<class 'pandas.core.frame.DataFrame'>\n",
            "RangeIndex: 1000 entries, 0 to 999\n",
            "Data columns (total 11 columns):\n",
            " #   Column            Non-Null Count  Dtype \n",
            "---  ------            --------------  ----- \n",
            " 0   Unnamed: 0        1000 non-null   int64 \n",
            " 1   Age               1000 non-null   int64 \n",
            " 2   Sex               1000 non-null   object\n",
            " 3   Job               1000 non-null   int64 \n",
            " 4   Housing           1000 non-null   object\n",
            " 5   Saving accounts   817 non-null    object\n",
            " 6   Checking account  606 non-null    object\n",
            " 7   Credit amount     1000 non-null   int64 \n",
            " 8   Duration          1000 non-null   int64 \n",
            " 9   Purpose           1000 non-null   object\n",
            " 10  Risk              1000 non-null   object\n",
            "dtypes: int64(5), object(6)\n",
            "memory usage: 86.1+ KB\n",
            "None\n"
          ]
        }
      ]
    },
    {
      "cell_type": "code",
      "source": [
        "#Looking unique values\n",
        "\n",
        "print(df.nunique())"
      ],
      "metadata": {
        "colab": {
          "base_uri": "https://localhost:8080/"
        },
        "id": "Kodzfk7ou0jT",
        "outputId": "3935d812-c4c3-4d57-ced5-2173a9316d59"
      },
      "id": "Kodzfk7ou0jT",
      "execution_count": 5,
      "outputs": [
        {
          "output_type": "stream",
          "name": "stdout",
          "text": [
            "Unnamed: 0          1000\n",
            "Age                   53\n",
            "Sex                    2\n",
            "Job                    4\n",
            "Housing                3\n",
            "Saving accounts        4\n",
            "Checking account       3\n",
            "Credit amount        921\n",
            "Duration              33\n",
            "Purpose                8\n",
            "Risk                   2\n",
            "dtype: int64\n"
          ]
        }
      ]
    },
    {
      "cell_type": "code",
      "source": [
        "#Get the numbers of missing values in each column\n",
        "missing = df.isnull().sum()\n",
        "\n",
        "#Get the percentage of missing values in each column\n",
        "missing_pct = round(df.isnull().sum()/len(df) * 100, 1)\n",
        "\n",
        "data_missing = pd.concat([missing, missing_pct], axis=1)\n",
        "data_missing.columns = [\"Num\", \"Pct\"]\n",
        "print(data_missing)"
      ],
      "metadata": {
        "colab": {
          "base_uri": "https://localhost:8080/"
        },
        "id": "hiR-l0Elu7g_",
        "outputId": "10a7affa-8245-4b69-ce83-a31327a81d6e"
      },
      "id": "hiR-l0Elu7g_",
      "execution_count": 6,
      "outputs": [
        {
          "output_type": "stream",
          "name": "stdout",
          "text": [
            "                  Num   Pct\n",
            "Unnamed: 0          0   0.0\n",
            "Age                 0   0.0\n",
            "Sex                 0   0.0\n",
            "Job                 0   0.0\n",
            "Housing             0   0.0\n",
            "Saving accounts   183  18.3\n",
            "Checking account  394  39.4\n",
            "Credit amount       0   0.0\n",
            "Duration            0   0.0\n",
            "Purpose             0   0.0\n",
            "Risk                0   0.0\n"
          ]
        }
      ]
    },
    {
      "cell_type": "code",
      "source": [
        "df.info()"
      ],
      "metadata": {
        "colab": {
          "base_uri": "https://localhost:8080/"
        },
        "id": "IxiNBYPJvVTS",
        "outputId": "64e8104b-d82a-4356-ad9f-691cdd12bae4"
      },
      "id": "IxiNBYPJvVTS",
      "execution_count": 7,
      "outputs": [
        {
          "output_type": "stream",
          "name": "stdout",
          "text": [
            "<class 'pandas.core.frame.DataFrame'>\n",
            "RangeIndex: 1000 entries, 0 to 999\n",
            "Data columns (total 11 columns):\n",
            " #   Column            Non-Null Count  Dtype \n",
            "---  ------            --------------  ----- \n",
            " 0   Unnamed: 0        1000 non-null   int64 \n",
            " 1   Age               1000 non-null   int64 \n",
            " 2   Sex               1000 non-null   object\n",
            " 3   Job               1000 non-null   int64 \n",
            " 4   Housing           1000 non-null   object\n",
            " 5   Saving accounts   817 non-null    object\n",
            " 6   Checking account  606 non-null    object\n",
            " 7   Credit amount     1000 non-null   int64 \n",
            " 8   Duration          1000 non-null   int64 \n",
            " 9   Purpose           1000 non-null   object\n",
            " 10  Risk              1000 non-null   object\n",
            "dtypes: int64(5), object(6)\n",
            "memory usage: 86.1+ KB\n"
          ]
        }
      ]
    },
    {
      "cell_type": "markdown",
      "source": [
        "#Data Preprocessing"
      ],
      "metadata": {
        "id": "aJwZ7wouRho9"
      },
      "id": "aJwZ7wouRho9"
    },
    {
      "cell_type": "code",
      "source": [
        "# We need to produce a new dataset (df_credit) for prediction model construction\n",
        "\n",
        "# 1. We need to convert the target varaible Risk into a numerical.\n",
        "# 2. We need to split df_credit into predict varible and dependent varaible.\n",
        "# 3. we do some individual varaible transforamtion, fill missing data\n",
        "\n",
        "#Importing the data\n",
        "df = pd.read_csv(\"German.csv\",index_col=0)\n",
        "\n",
        "df_credit = df"
      ],
      "metadata": {
        "id": "w20OosM3wuL2"
      },
      "id": "w20OosM3wuL2",
      "execution_count": 8,
      "outputs": []
    },
    {
      "cell_type": "code",
      "source": [
        "#Change Risk column (target variable) into numerical with 0 and 1 values\n",
        "\n",
        "df_y = df[['Risk']]\n",
        "df_y['Risk'] = np.where(df_y.loc[ : , 'Risk']=='good', 0, 1)\n",
        "df_y.head()\n",
        "df_y.info()"
      ],
      "metadata": {
        "colab": {
          "base_uri": "https://localhost:8080/"
        },
        "id": "0p0Rst7RxgSd",
        "outputId": "4df6f06a-aac8-49d6-877c-d1dbf93a62ea"
      },
      "id": "0p0Rst7RxgSd",
      "execution_count": 9,
      "outputs": [
        {
          "output_type": "stream",
          "name": "stdout",
          "text": [
            "<class 'pandas.core.frame.DataFrame'>\n",
            "Int64Index: 1000 entries, 0 to 999\n",
            "Data columns (total 1 columns):\n",
            " #   Column  Non-Null Count  Dtype\n",
            "---  ------  --------------  -----\n",
            " 0   Risk    1000 non-null   int64\n",
            "dtypes: int64(1)\n",
            "memory usage: 15.6 KB\n"
          ]
        }
      ]
    },
    {
      "cell_type": "code",
      "source": [
        "# Prepare predictor table\n",
        "\n",
        "df_credit = df_credit.drop([\"Risk\"], axis=1)\n",
        "df_credit.head()"
      ],
      "metadata": {
        "colab": {
          "base_uri": "https://localhost:8080/",
          "height": 206
        },
        "id": "7Ri6DVyPyAYy",
        "outputId": "7e839b60-53c0-40af-e49e-eb4558cccd91"
      },
      "id": "7Ri6DVyPyAYy",
      "execution_count": 10,
      "outputs": [
        {
          "output_type": "execute_result",
          "data": {
            "text/plain": [
              "   Age     Sex  Job Housing Saving accounts Checking account  Credit amount  \\\n",
              "0   67    male    2     own             NaN           little           1169   \n",
              "1   22  female    2     own          little         moderate           5951   \n",
              "2   49    male    1     own          little              NaN           2096   \n",
              "3   45    male    2    free          little           little           7882   \n",
              "4   53    male    2    free          little           little           4870   \n",
              "\n",
              "   Duration              Purpose  \n",
              "0         6             radio/TV  \n",
              "1        48             radio/TV  \n",
              "2        12            education  \n",
              "3        42  furniture/equipment  \n",
              "4        24                  car  "
            ],
            "text/html": [
              "\n",
              "  <div id=\"df-94151258-3576-4733-ba2f-6421228072b4\">\n",
              "    <div class=\"colab-df-container\">\n",
              "      <div>\n",
              "<style scoped>\n",
              "    .dataframe tbody tr th:only-of-type {\n",
              "        vertical-align: middle;\n",
              "    }\n",
              "\n",
              "    .dataframe tbody tr th {\n",
              "        vertical-align: top;\n",
              "    }\n",
              "\n",
              "    .dataframe thead th {\n",
              "        text-align: right;\n",
              "    }\n",
              "</style>\n",
              "<table border=\"1\" class=\"dataframe\">\n",
              "  <thead>\n",
              "    <tr style=\"text-align: right;\">\n",
              "      <th></th>\n",
              "      <th>Age</th>\n",
              "      <th>Sex</th>\n",
              "      <th>Job</th>\n",
              "      <th>Housing</th>\n",
              "      <th>Saving accounts</th>\n",
              "      <th>Checking account</th>\n",
              "      <th>Credit amount</th>\n",
              "      <th>Duration</th>\n",
              "      <th>Purpose</th>\n",
              "    </tr>\n",
              "  </thead>\n",
              "  <tbody>\n",
              "    <tr>\n",
              "      <th>0</th>\n",
              "      <td>67</td>\n",
              "      <td>male</td>\n",
              "      <td>2</td>\n",
              "      <td>own</td>\n",
              "      <td>NaN</td>\n",
              "      <td>little</td>\n",
              "      <td>1169</td>\n",
              "      <td>6</td>\n",
              "      <td>radio/TV</td>\n",
              "    </tr>\n",
              "    <tr>\n",
              "      <th>1</th>\n",
              "      <td>22</td>\n",
              "      <td>female</td>\n",
              "      <td>2</td>\n",
              "      <td>own</td>\n",
              "      <td>little</td>\n",
              "      <td>moderate</td>\n",
              "      <td>5951</td>\n",
              "      <td>48</td>\n",
              "      <td>radio/TV</td>\n",
              "    </tr>\n",
              "    <tr>\n",
              "      <th>2</th>\n",
              "      <td>49</td>\n",
              "      <td>male</td>\n",
              "      <td>1</td>\n",
              "      <td>own</td>\n",
              "      <td>little</td>\n",
              "      <td>NaN</td>\n",
              "      <td>2096</td>\n",
              "      <td>12</td>\n",
              "      <td>education</td>\n",
              "    </tr>\n",
              "    <tr>\n",
              "      <th>3</th>\n",
              "      <td>45</td>\n",
              "      <td>male</td>\n",
              "      <td>2</td>\n",
              "      <td>free</td>\n",
              "      <td>little</td>\n",
              "      <td>little</td>\n",
              "      <td>7882</td>\n",
              "      <td>42</td>\n",
              "      <td>furniture/equipment</td>\n",
              "    </tr>\n",
              "    <tr>\n",
              "      <th>4</th>\n",
              "      <td>53</td>\n",
              "      <td>male</td>\n",
              "      <td>2</td>\n",
              "      <td>free</td>\n",
              "      <td>little</td>\n",
              "      <td>little</td>\n",
              "      <td>4870</td>\n",
              "      <td>24</td>\n",
              "      <td>car</td>\n",
              "    </tr>\n",
              "  </tbody>\n",
              "</table>\n",
              "</div>\n",
              "      <button class=\"colab-df-convert\" onclick=\"convertToInteractive('df-94151258-3576-4733-ba2f-6421228072b4')\"\n",
              "              title=\"Convert this dataframe to an interactive table.\"\n",
              "              style=\"display:none;\">\n",
              "        \n",
              "  <svg xmlns=\"http://www.w3.org/2000/svg\" height=\"24px\"viewBox=\"0 0 24 24\"\n",
              "       width=\"24px\">\n",
              "    <path d=\"M0 0h24v24H0V0z\" fill=\"none\"/>\n",
              "    <path d=\"M18.56 5.44l.94 2.06.94-2.06 2.06-.94-2.06-.94-.94-2.06-.94 2.06-2.06.94zm-11 1L8.5 8.5l.94-2.06 2.06-.94-2.06-.94L8.5 2.5l-.94 2.06-2.06.94zm10 10l.94 2.06.94-2.06 2.06-.94-2.06-.94-.94-2.06-.94 2.06-2.06.94z\"/><path d=\"M17.41 7.96l-1.37-1.37c-.4-.4-.92-.59-1.43-.59-.52 0-1.04.2-1.43.59L10.3 9.45l-7.72 7.72c-.78.78-.78 2.05 0 2.83L4 21.41c.39.39.9.59 1.41.59.51 0 1.02-.2 1.41-.59l7.78-7.78 2.81-2.81c.8-.78.8-2.07 0-2.86zM5.41 20L4 18.59l7.72-7.72 1.47 1.35L5.41 20z\"/>\n",
              "  </svg>\n",
              "      </button>\n",
              "      \n",
              "  <style>\n",
              "    .colab-df-container {\n",
              "      display:flex;\n",
              "      flex-wrap:wrap;\n",
              "      gap: 12px;\n",
              "    }\n",
              "\n",
              "    .colab-df-convert {\n",
              "      background-color: #E8F0FE;\n",
              "      border: none;\n",
              "      border-radius: 50%;\n",
              "      cursor: pointer;\n",
              "      display: none;\n",
              "      fill: #1967D2;\n",
              "      height: 32px;\n",
              "      padding: 0 0 0 0;\n",
              "      width: 32px;\n",
              "    }\n",
              "\n",
              "    .colab-df-convert:hover {\n",
              "      background-color: #E2EBFA;\n",
              "      box-shadow: 0px 1px 2px rgba(60, 64, 67, 0.3), 0px 1px 3px 1px rgba(60, 64, 67, 0.15);\n",
              "      fill: #174EA6;\n",
              "    }\n",
              "\n",
              "    [theme=dark] .colab-df-convert {\n",
              "      background-color: #3B4455;\n",
              "      fill: #D2E3FC;\n",
              "    }\n",
              "\n",
              "    [theme=dark] .colab-df-convert:hover {\n",
              "      background-color: #434B5C;\n",
              "      box-shadow: 0px 1px 3px 1px rgba(0, 0, 0, 0.15);\n",
              "      filter: drop-shadow(0px 1px 2px rgba(0, 0, 0, 0.3));\n",
              "      fill: #FFFFFF;\n",
              "    }\n",
              "  </style>\n",
              "\n",
              "      <script>\n",
              "        const buttonEl =\n",
              "          document.querySelector('#df-94151258-3576-4733-ba2f-6421228072b4 button.colab-df-convert');\n",
              "        buttonEl.style.display =\n",
              "          google.colab.kernel.accessAllowed ? 'block' : 'none';\n",
              "\n",
              "        async function convertToInteractive(key) {\n",
              "          const element = document.querySelector('#df-94151258-3576-4733-ba2f-6421228072b4');\n",
              "          const dataTable =\n",
              "            await google.colab.kernel.invokeFunction('convertToInteractive',\n",
              "                                                     [key], {});\n",
              "          if (!dataTable) return;\n",
              "\n",
              "          const docLinkHtml = 'Like what you see? Visit the ' +\n",
              "            '<a target=\"_blank\" href=https://colab.research.google.com/notebooks/data_table.ipynb>data table notebook</a>'\n",
              "            + ' to learn more about interactive tables.';\n",
              "          element.innerHTML = '';\n",
              "          dataTable['output_type'] = 'display_data';\n",
              "          await google.colab.output.renderOutput(dataTable, element);\n",
              "          const docLink = document.createElement('div');\n",
              "          docLink.innerHTML = docLinkHtml;\n",
              "          element.appendChild(docLink);\n",
              "        }\n",
              "      </script>\n",
              "    </div>\n",
              "  </div>\n",
              "  "
            ]
          },
          "metadata": {},
          "execution_count": 10
        }
      ]
    },
    {
      "cell_type": "code",
      "source": [
        "# Deal with missing values\n",
        "\n",
        "print(df_credit['Saving accounts'].describe())\n",
        "\n",
        "plt.figure(figsize=(12,6))\n",
        "sns.countplot(x='Saving accounts',data = df_credit)\n",
        "\n",
        "plt.show()"
      ],
      "metadata": {
        "colab": {
          "base_uri": "https://localhost:8080/",
          "height": 475
        },
        "id": "2ooF7bzRyJ7P",
        "outputId": "d12dd076-535b-4941-c3d9-9a5d3e7b1b5d"
      },
      "id": "2ooF7bzRyJ7P",
      "execution_count": 11,
      "outputs": [
        {
          "output_type": "stream",
          "name": "stdout",
          "text": [
            "count        817\n",
            "unique         4\n",
            "top       little\n",
            "freq         603\n",
            "Name: Saving accounts, dtype: object\n"
          ]
        },
        {
          "output_type": "display_data",
          "data": {
            "text/plain": [
              "<Figure size 864x432 with 1 Axes>"
            ],
            "image/png": "[encoded data removed]"
          },
          "metadata": {
            "needs_background": "light"
          }
        }
      ]
    },
    {
      "cell_type": "code",
      "source": [
        "# Assign missing vlaue with little because it is the majority in the dataset\n",
        "\n",
        "df_credit['Saving accounts'].fillna('little', inplace = True)\n",
        "df_credit['Saving accounts'].describe()"
      ],
      "metadata": {
        "colab": {
          "base_uri": "https://localhost:8080/"
        },
        "id": "lv-E2FSYyn6b",
        "outputId": "2a321337-d7ab-4c76-8796-8fd8a649f6a1"
      },
      "id": "lv-E2FSYyn6b",
      "execution_count": 12,
      "outputs": [
        {
          "output_type": "execute_result",
          "data": {
            "text/plain": [
              "count       1000\n",
              "unique         4\n",
              "top       little\n",
              "freq         786\n",
              "Name: Saving accounts, dtype: object"
            ]
          },
          "metadata": {},
          "execution_count": 12
        }
      ]
    },
    {
      "cell_type": "code",
      "source": [
        "# fill the missing value with a category made up category called \"No_info\"\n",
        "\n",
        "df_credit['Checking account'].fillna('no_inf', inplace=True)\n",
        "df_credit['Checking account'].head()\n",
        "\n",
        "#df_credit['Checking account'].describe()\n",
        "plt.figure(figsize=(12,6))\n",
        "sns.countplot(x='Checking account',data=df_credit)"
      ],
      "metadata": {
        "colab": {
          "base_uri": "https://localhost:8080/",
          "height": 406
        },
        "id": "Bqi0ojZZzJjA",
        "outputId": "92126950-595e-43e3-e676-06ff86e0c57b"
      },
      "id": "Bqi0ojZZzJjA",
      "execution_count": 13,
      "outputs": [
        {
          "output_type": "execute_result",
          "data": {
            "text/plain": [
              "<matplotlib.axes._subplots.AxesSubplot at 0x7f54e221ff90>"
            ]
          },
          "metadata": {},
          "execution_count": 13
        },
        {
          "output_type": "display_data",
          "data": {
            "text/plain": [
              "<Figure size 864x432 with 1 Axes>"
            ],
            "image/png": "[encoded data removed]"
          },
          "metadata": {
            "needs_background": "light"
          }
        }
      ]
    },
    {
      "cell_type": "markdown",
      "source": [
        "The numerical varaibles are all skewed to the left. They will affact most of ML models.\n",
        "\n",
        "We need to normalise them by performming a log transformation before using these features in our modelling."
      ],
      "metadata": {
        "id": "DYur7UqA1umS"
      },
      "id": "DYur7UqA1umS"
    },
    {
      "cell_type": "code",
      "source": [
        "# Log transform function\n",
        "def log_transform(data, to_log):\n",
        "    X = data.copy()\n",
        "    for item in to_log:\n",
        "        # Add 1 to the data to prevent infinity values\n",
        "        X[item] = np.log(1+X[item])\n",
        "    return X"
      ],
      "metadata": {
        "id": "Ek9QdJWGzYjS"
      },
      "id": "Ek9QdJWGzYjS",
      "execution_count": 14,
      "outputs": []
    },
    {
      "cell_type": "code",
      "source": [
        "def one_hot_encoder(df, nan_as_category = False):\n",
        "    original_columns = list(df.columns)\n",
        "    categorical_columns = [col for col in df.columns if df[col].dtype == 'object']\n",
        "    df = pd.get_dummies(df, columns = categorical_columns, dummy_na = nan_as_category)\n",
        "    new_columns = [c for c in df.columns if c not in original_columns]\n",
        "    return df"
      ],
      "metadata": {
        "id": "5kcf0BTuz6wZ"
      },
      "id": "5kcf0BTuz6wZ",
      "execution_count": 15,
      "outputs": []
    },
    {
      "cell_type": "markdown",
      "source": [
        "Transfer all object and category variables into numberical\n",
        "\n",
        "Reasons\n",
        "\n",
        "1. Most of the prediction models need predictor to be numberical.\n",
        "2. For correclation analysis we need attributres ot be numberical."
      ],
      "metadata": {
        "id": "p0jDjAqm1UwK"
      },
      "id": "p0jDjAqm1UwK"
    },
    {
      "cell_type": "code",
      "source": [
        "# log transfer\n",
        "\n",
        "df_credit = log_transform(df_credit, ['Age', 'Credit amount', 'Duration'])"
      ],
      "metadata": {
        "id": "pW5eit_wz2bw"
      },
      "id": "pW5eit_wz2bw",
      "execution_count": 16,
      "outputs": []
    },
    {
      "cell_type": "code",
      "source": [
        "# do transformation on df-credit\n",
        "\n",
        "df_credit_T = one_hot_encoder(df_credit)\n",
        "print(df_credit_T.info())"
      ],
      "metadata": {
        "colab": {
          "base_uri": "https://localhost:8080/"
        },
        "id": "JvdYr-fz0vpU",
        "outputId": "52e16fbe-2f39-4ff7-98ef-a505003f9b1a"
      },
      "id": "JvdYr-fz0vpU",
      "execution_count": 17,
      "outputs": [
        {
          "output_type": "stream",
          "name": "stdout",
          "text": [
            "<class 'pandas.core.frame.DataFrame'>\n",
            "Int64Index: 1000 entries, 0 to 999\n",
            "Data columns (total 25 columns):\n",
            " #   Column                       Non-Null Count  Dtype  \n",
            "---  ------                       --------------  -----  \n",
            " 0   Age                          1000 non-null   float64\n",
            " 1   Job                          1000 non-null   int64  \n",
            " 2   Credit amount                1000 non-null   float64\n",
            " 3   Duration                     1000 non-null   float64\n",
            " 4   Sex_female                   1000 non-null   uint8  \n",
            " 5   Sex_male                     1000 non-null   uint8  \n",
            " 6   Housing_free                 1000 non-null   uint8  \n",
            " 7   Housing_own                  1000 non-null   uint8  \n",
            " 8   Housing_rent                 1000 non-null   uint8  \n",
            " 9   Saving accounts_little       1000 non-null   uint8  \n",
            " 10  Saving accounts_moderate     1000 non-null   uint8  \n",
            " 11  Saving accounts_quite rich   1000 non-null   uint8  \n",
            " 12  Saving accounts_rich         1000 non-null   uint8  \n",
            " 13  Checking account_little      1000 non-null   uint8  \n",
            " 14  Checking account_moderate    1000 non-null   uint8  \n",
            " 15  Checking account_no_inf      1000 non-null   uint8  \n",
            " 16  Checking account_rich        1000 non-null   uint8  \n",
            " 17  Purpose_business             1000 non-null   uint8  \n",
            " 18  Purpose_car                  1000 non-null   uint8  \n",
            " 19  Purpose_domestic appliances  1000 non-null   uint8  \n",
            " 20  Purpose_education            1000 non-null   uint8  \n",
            " 21  Purpose_furniture/equipment  1000 non-null   uint8  \n",
            " 22  Purpose_radio/TV             1000 non-null   uint8  \n",
            " 23  Purpose_repairs              1000 non-null   uint8  \n",
            " 24  Purpose_vacation/others      1000 non-null   uint8  \n",
            "dtypes: float64(3), int64(1), uint8(21)\n",
            "memory usage: 91.9 KB\n",
            "None\n"
          ]
        }
      ]
    },
    {
      "cell_type": "code",
      "source": [
        "#concat the df_credit with df_y \n",
        "\n",
        "data_train = pd.concat([df_credit_T, df_y], axis=1)\n",
        "data_train.head()"
      ],
      "metadata": {
        "colab": {
          "base_uri": "https://localhost:8080/",
          "height": 317
        },
        "id": "Q1EH1ZC400hM",
        "outputId": "603e865f-5e0b-411b-9516-2fd85cdc19cf"
      },
      "id": "Q1EH1ZC400hM",
      "execution_count": 18,
      "outputs": [
        {
          "output_type": "execute_result",
          "data": {
            "text/plain": [
              "        Age  Job  Credit amount  Duration  Sex_female  Sex_male  Housing_free  \\\n",
              "0  4.219508    2       7.064759  1.945910           0         1             0   \n",
              "1  3.135494    2       8.691483  3.891820           1         0             0   \n",
              "2  3.912023    1       7.648263  2.564949           0         1             0   \n",
              "3  3.828641    2       8.972464  3.761200           0         1             1   \n",
              "4  3.988984    2       8.491055  3.218876           0         1             1   \n",
              "\n",
              "   Housing_own  Housing_rent  Saving accounts_little  ...  \\\n",
              "0            1             0                       1  ...   \n",
              "1            1             0                       1  ...   \n",
              "2            1             0                       1  ...   \n",
              "3            0             0                       1  ...   \n",
              "4            0             0                       1  ...   \n",
              "\n",
              "   Checking account_rich  Purpose_business  Purpose_car  \\\n",
              "0                      0                 0            0   \n",
              "1                      0                 0            0   \n",
              "2                      0                 0            0   \n",
              "3                      0                 0            0   \n",
              "4                      0                 0            1   \n",
              "\n",
              "   Purpose_domestic appliances  Purpose_education  \\\n",
              "0                            0                  0   \n",
              "1                            0                  0   \n",
              "2                            0                  1   \n",
              "3                            0                  0   \n",
              "4                            0                  0   \n",
              "\n",
              "   Purpose_furniture/equipment  Purpose_radio/TV  Purpose_repairs  \\\n",
              "0                            0                 1                0   \n",
              "1                            0                 1                0   \n",
              "2                            0                 0                0   \n",
              "3                            1                 0                0   \n",
              "4                            0                 0                0   \n",
              "\n",
              "   Purpose_vacation/others  Risk  \n",
              "0                        0     0  \n",
              "1                        0     1  \n",
              "2                        0     0  \n",
              "3                        0     0  \n",
              "4                        0     1  \n",
              "\n",
              "[5 rows x 26 columns]"
            ],
            "text/html": [
              "\n",
              "  <div id=\"df-5614542e-0f14-48e8-ac11-585863dc3b4d\">\n",
              "    <div class=\"colab-df-container\">\n",
              "      <div>\n",
              "<style scoped>\n",
              "    .dataframe tbody tr th:only-of-type {\n",
              "        vertical-align: middle;\n",
              "    }\n",
              "\n",
              "    .dataframe tbody tr th {\n",
              "        vertical-align: top;\n",
              "    }\n",
              "\n",
              "    .dataframe thead th {\n",
              "        text-align: right;\n",
              "    }\n",
              "</style>\n",
              "<table border=\"1\" class=\"dataframe\">\n",
              "  <thead>\n",
              "    <tr style=\"text-align: right;\">\n",
              "      <th></th>\n",
              "      <th>Age</th>\n",
              "      <th>Job</th>\n",
              "      <th>Credit amount</th>\n",
              "      <th>Duration</th>\n",
              "      <th>Sex_female</th>\n",
              "      <th>Sex_male</th>\n",
              "      <th>Housing_free</th>\n",
              "      <th>Housing_own</th>\n",
              "      <th>Housing_rent</th>\n",
              "      <th>Saving accounts_little</th>\n",
              "      <th>...</th>\n",
              "      <th>Checking account_rich</th>\n",
              "      <th>Purpose_business</th>\n",
              "      <th>Purpose_car</th>\n",
              "      <th>Purpose_domestic appliances</th>\n",
              "      <th>Purpose_education</th>\n",
              "      <th>Purpose_furniture/equipment</th>\n",
              "      <th>Purpose_radio/TV</th>\n",
              "      <th>Purpose_repairs</th>\n",
              "      <th>Purpose_vacation/others</th>\n",
              "      <th>Risk</th>\n",
              "    </tr>\n",
              "  </thead>\n",
              "  <tbody>\n",
              "    <tr>\n",
              "      <th>0</th>\n",
              "      <td>4.219508</td>\n",
              "      <td>2</td>\n",
              "      <td>7.064759</td>\n",
              "      <td>1.945910</td>\n",
              "      <td>0</td>\n",
              "      <td>1</td>\n",
              "      <td>0</td>\n",
              "      <td>1</td>\n",
              "      <td>0</td>\n",
              "      <td>1</td>\n",
              "      <td>...</td>\n",
              "      <td>0</td>\n",
              "      <td>0</td>\n",
              "      <td>0</td>\n",
              "      <td>0</td>\n",
              "      <td>0</td>\n",
              "      <td>0</td>\n",
              "      <td>1</td>\n",
              "      <td>0</td>\n",
              "      <td>0</td>\n",
              "      <td>0</td>\n",
              "    </tr>\n",
              "    <tr>\n",
              "      <th>1</th>\n",
              "      <td>3.135494</td>\n",
              "      <td>2</td>\n",
              "      <td>8.691483</td>\n",
              "      <td>3.891820</td>\n",
              "      <td>1</td>\n",
              "      <td>0</td>\n",
              "      <td>0</td>\n",
              "      <td>1</td>\n",
              "      <td>0</td>\n",
              "      <td>1</td>\n",
              "      <td>...</td>\n",
              "      <td>0</td>\n",
              "      <td>0</td>\n",
              "      <td>0</td>\n",
              "      <td>0</td>\n",
              "      <td>0</td>\n",
              "      <td>0</td>\n",
              "      <td>1</td>\n",
              "      <td>0</td>\n",
              "      <td>0</td>\n",
              "      <td>1</td>\n",
              "    </tr>\n",
              "    <tr>\n",
              "      <th>2</th>\n",
              "      <td>3.912023</td>\n",
              "      <td>1</td>\n",
              "      <td>7.648263</td>\n",
              "      <td>2.564949</td>\n",
              "      <td>0</td>\n",
              "      <td>1</td>\n",
              "      <td>0</td>\n",
              "      <td>1</td>\n",
              "      <td>0</td>\n",
              "      <td>1</td>\n",
              "      <td>...</td>\n",
              "      <td>0</td>\n",
              "      <td>0</td>\n",
              "      <td>0</td>\n",
              "      <td>0</td>\n",
              "      <td>1</td>\n",
              "      <td>0</td>\n",
              "      <td>0</td>\n",
              "      <td>0</td>\n",
              "      <td>0</td>\n",
              "      <td>0</td>\n",
              "    </tr>\n",
              "    <tr>\n",
              "      <th>3</th>\n",
              "      <td>3.828641</td>\n",
              "      <td>2</td>\n",
              "      <td>8.972464</td>\n",
              "      <td>3.761200</td>\n",
              "      <td>0</td>\n",
              "      <td>1</td>\n",
              "      <td>1</td>\n",
              "      <td>0</td>\n",
              "      <td>0</td>\n",
              "      <td>1</td>\n",
              "      <td>...</td>\n",
              "      <td>0</td>\n",
              "      <td>0</td>\n",
              "      <td>0</td>\n",
              "      <td>0</td>\n",
              "      <td>0</td>\n",
              "      <td>1</td>\n",
              "      <td>0</td>\n",
              "      <td>0</td>\n",
              "      <td>0</td>\n",
              "      <td>0</td>\n",
              "    </tr>\n",
              "    <tr>\n",
              "      <th>4</th>\n",
              "      <td>3.988984</td>\n",
              "      <td>2</td>\n",
              "      <td>8.491055</td>\n",
              "      <td>3.218876</td>\n",
              "      <td>0</td>\n",
              "      <td>1</td>\n",
              "      <td>1</td>\n",
              "      <td>0</td>\n",
              "      <td>0</td>\n",
              "      <td>1</td>\n",
              "      <td>...</td>\n",
              "      <td>0</td>\n",
              "      <td>0</td>\n",
              "      <td>1</td>\n",
              "      <td>0</td>\n",
              "      <td>0</td>\n",
              "      <td>0</td>\n",
              "      <td>0</td>\n",
              "      <td>0</td>\n",
              "      <td>0</td>\n",
              "      <td>1</td>\n",
              "    </tr>\n",
              "  </tbody>\n",
              "</table>\n",
              "<p>5 rows × 26 columns</p>\n",
              "</div>\n",
              "      <button class=\"colab-df-convert\" onclick=\"convertToInteractive('df-5614542e-0f14-48e8-ac11-585863dc3b4d')\"\n",
              "              title=\"Convert this dataframe to an interactive table.\"\n",
              "              style=\"display:none;\">\n",
              "        \n",
              "  <svg xmlns=\"http://www.w3.org/2000/svg\" height=\"24px\"viewBox=\"0 0 24 24\"\n",
              "       width=\"24px\">\n",
              "    <path d=\"M0 0h24v24H0V0z\" fill=\"none\"/>\n",
              "    <path d=\"M18.56 5.44l.94 2.06.94-2.06 2.06-.94-2.06-.94-.94-2.06-.94 2.06-2.06.94zm-11 1L8.5 8.5l.94-2.06 2.06-.94-2.06-.94L8.5 2.5l-.94 2.06-2.06.94zm10 10l.94 2.06.94-2.06 2.06-.94-2.06-.94-.94-2.06-.94 2.06-2.06.94z\"/><path d=\"M17.41 7.96l-1.37-1.37c-.4-.4-.92-.59-1.43-.59-.52 0-1.04.2-1.43.59L10.3 9.45l-7.72 7.72c-.78.78-.78 2.05 0 2.83L4 21.41c.39.39.9.59 1.41.59.51 0 1.02-.2 1.41-.59l7.78-7.78 2.81-2.81c.8-.78.8-2.07 0-2.86zM5.41 20L4 18.59l7.72-7.72 1.47 1.35L5.41 20z\"/>\n",
              "  </svg>\n",
              "      </button>\n",
              "      \n",
              "  <style>\n",
              "    .colab-df-container {\n",
              "      display:flex;\n",
              "      flex-wrap:wrap;\n",
              "      gap: 12px;\n",
              "    }\n",
              "\n",
              "    .colab-df-convert {\n",
              "      background-color: #E8F0FE;\n",
              "      border: none;\n",
              "      border-radius: 50%;\n",
              "      cursor: pointer;\n",
              "      display: none;\n",
              "      fill: #1967D2;\n",
              "      height: 32px;\n",
              "      padding: 0 0 0 0;\n",
              "      width: 32px;\n",
              "    }\n",
              "\n",
              "    .colab-df-convert:hover {\n",
              "      background-color: #E2EBFA;\n",
              "      box-shadow: 0px 1px 2px rgba(60, 64, 67, 0.3), 0px 1px 3px 1px rgba(60, 64, 67, 0.15);\n",
              "      fill: #174EA6;\n",
              "    }\n",
              "\n",
              "    [theme=dark] .colab-df-convert {\n",
              "      background-color: #3B4455;\n",
              "      fill: #D2E3FC;\n",
              "    }\n",
              "\n",
              "    [theme=dark] .colab-df-convert:hover {\n",
              "      background-color: #434B5C;\n",
              "      box-shadow: 0px 1px 3px 1px rgba(0, 0, 0, 0.15);\n",
              "      filter: drop-shadow(0px 1px 2px rgba(0, 0, 0, 0.3));\n",
              "      fill: #FFFFFF;\n",
              "    }\n",
              "  </style>\n",
              "\n",
              "      <script>\n",
              "        const buttonEl =\n",
              "          document.querySelector('#df-5614542e-0f14-48e8-ac11-585863dc3b4d button.colab-df-convert');\n",
              "        buttonEl.style.display =\n",
              "          google.colab.kernel.accessAllowed ? 'block' : 'none';\n",
              "\n",
              "        async function convertToInteractive(key) {\n",
              "          const element = document.querySelector('#df-5614542e-0f14-48e8-ac11-585863dc3b4d');\n",
              "          const dataTable =\n",
              "            await google.colab.kernel.invokeFunction('convertToInteractive',\n",
              "                                                     [key], {});\n",
              "          if (!dataTable) return;\n",
              "\n",
              "          const docLinkHtml = 'Like what you see? Visit the ' +\n",
              "            '<a target=\"_blank\" href=https://colab.research.google.com/notebooks/data_table.ipynb>data table notebook</a>'\n",
              "            + ' to learn more about interactive tables.';\n",
              "          element.innerHTML = '';\n",
              "          dataTable['output_type'] = 'display_data';\n",
              "          await google.colab.output.renderOutput(dataTable, element);\n",
              "          const docLink = document.createElement('div');\n",
              "          docLink.innerHTML = docLinkHtml;\n",
              "          element.appendChild(docLink);\n",
              "        }\n",
              "      </script>\n",
              "    </div>\n",
              "  </div>\n",
              "  "
            ]
          },
          "metadata": {},
          "execution_count": 18
        }
      ]
    },
    {
      "cell_type": "markdown",
      "source": [
        "# Model constrution"
      ],
      "metadata": {
        "id": "KG975ZdgRqzG"
      },
      "id": "KG975ZdgRqzG"
    },
    {
      "cell_type": "markdown",
      "source": [
        "After this basic data preprocessing, we have produced a new data set ready for to be used for our model constrution.\n",
        "\n",
        "1. df_credit_T: Dataset only contains independent variables after normalisation\n",
        "2. df_y: dataset only has the dependent varaible \"Risk\" and only has 0 and 1\n",
        "3. data_train: has both of them"
      ],
      "metadata": {
        "id": "jAEtedHk1D2B"
      },
      "id": "jAEtedHk1D2B"
    },
    {
      "cell_type": "markdown",
      "source": [
        "Prediciton Model Construction and Evaluation\n",
        "\n",
        "Im going to use the following Python Sklearn models:\n",
        "\n",
        "\n",
        "*   SVC\n",
        "*   Gaussian Naive Bayes\n",
        "*   Decision Tree Classifier\n",
        "*   XGBClassifier\n",
        "*   K-Nearest Neighbors Classifier\n",
        "\n"
      ],
      "metadata": {
        "id": "TBzSLAyI2pPn"
      },
      "id": "TBzSLAyI2pPn"
    },
    {
      "cell_type": "code",
      "source": [
        "# liberary loading\n",
        "from sklearn.model_selection import train_test_split, KFold, cross_val_score # to split the data\n",
        "from sklearn.metrics import accuracy_score, confusion_matrix, classification_report, fbeta_score #To evaluate our model\n",
        "\n",
        "from sklearn.model_selection import GridSearchCV\n",
        "\n",
        "# Algorithmns models to be compared\n",
        "from sklearn.svm import SVC\n",
        "from sklearn.naive_bayes import GaussianNB\n",
        "from sklearn.tree import DecisionTreeClassifier\n",
        "from xgboost import XGBClassifier\n",
        "from sklearn.neighbors import KNeighborsClassifier"
      ],
      "metadata": {
        "id": "OcKUsYF_4Rnx"
      },
      "id": "OcKUsYF_4Rnx",
      "execution_count": 19,
      "outputs": []
    },
    {
      "cell_type": "code",
      "source": [
        "X = df_credit_T\n",
        "y = df_y\n",
        "\n",
        "X_train, X_test, y_train, y_test = train_test_split(X, y, test_size=0.25, random_state=42)"
      ],
      "metadata": {
        "id": "BAfy59m74e8-"
      },
      "id": "BAfy59m74e8-",
      "execution_count": 20,
      "outputs": []
    },
    {
      "cell_type": "code",
      "source": [
        "# to feed the random state\n",
        "seed = 42\n",
        "\n",
        "# prepare models\n",
        "models = []\n",
        "models.append(('SVM', SVC(gamma='auto')))\n",
        "models.append(('NB', GaussianNB()))\n",
        "models.append(('DT', DecisionTreeClassifier()))\n",
        "models.append(('XGB', XGBClassifier()))\n",
        "models.append(('KNN', KNeighborsClassifier()))\n",
        "\n",
        "# evaluate each model in turn\n",
        "results = []\n",
        "names = []\n",
        "\n",
        "for name, model in models:\n",
        "        model.fit(X_train, y_train)\n",
        "        pre_results = model.predict(X_test)\n",
        "        model_acc = accuracy_score(y_test, pre_results)\n",
        "        names.append(name)\n",
        "        results.append(model_acc)\n",
        "        print(f\"Modal: {name} has {model_acc} accuracy\")      \n",
        "\n",
        "# boxplot algorithm comparison\n",
        "results_df = pd.DataFrame({'Model Names':names, 'Results':results})\n",
        "\n",
        "print()\n",
        "\n",
        "#print(results_df)\n",
        "fig = plt.figure(figsize=(11,6))\n",
        "fig.suptitle('Algorithm Comparison')\n",
        "\n",
        "results_df.plot.bar(x='Model Names',rot=45)\n",
        "\n",
        "plt.show()"
      ],
      "metadata": {
        "colab": {
          "base_uri": "https://localhost:8080/",
          "height": 414
        },
        "id": "GQhcdP3k4poW",
        "outputId": "8960f8e8-58b0-4c59-e5d4-7e591dc6e3bf"
      },
      "id": "GQhcdP3k4poW",
      "execution_count": 21,
      "outputs": [
        {
          "output_type": "stream",
          "name": "stdout",
          "text": [
            "Modal: SVM has 0.716 accuracy\n",
            "Modal: NB has 0.652 accuracy\n",
            "Modal: DT has 0.656 accuracy\n",
            "Modal: XGB has 0.736 accuracy\n",
            "Modal: KNN has 0.712 accuracy\n",
            "\n"
          ]
        },
        {
          "output_type": "display_data",
          "data": {
            "text/plain": [
              "<Figure size 792x432 with 0 Axes>"
            ]
          },
          "metadata": {}
        },
        {
          "output_type": "display_data",
          "data": {
            "text/plain": [
              "<Figure size 432x288 with 1 Axes>"
            ],
            "image/png": "[encoded data removed]"
          },
          "metadata": {
            "needs_background": "light"
          }
        }
      ]
    },
    {
      "cell_type": "markdown",
      "source": [
        "Findings:\n",
        "\n",
        "- all models have pretty low accuracy\n",
        "- some models perform a liitle better than others"
      ],
      "metadata": {
        "id": "gEkNAPF16BrQ"
      },
      "id": "gEkNAPF16BrQ"
    },
    {
      "cell_type": "markdown",
      "source": [
        " Prediciton model fine tune\n",
        "\n",
        " To improve model’s prediction is generally focused on two aspects:\n",
        "\n",
        "1. Increase the samples' quality\n",
        "> The samples used in the model training have a bid effect on the model's performance. Using proper numbers of properties and the appropriate property can increase the model's accuracy and increase the training cost. The most 2 popular methods used for property selection are Correlation analysis and the K-fold cross-validation.\n",
        "\n",
        "2. Adjust models' parameters\n",
        "\n"
      ],
      "metadata": {
        "id": "jFlOy4rD6Kjy"
      },
      "id": "jFlOy4rD6Kjy"
    },
    {
      "cell_type": "markdown",
      "source": [
        " Features selection\n",
        " For any prediction model, feature selection is important. It affects the model's performance by:\n",
        "1. The number of properties used (not the more, the better). \n",
        "2. which property to use (not use the correlated ones). \n",
        "\n",
        "The two general methods used are:\n",
        "\n",
        "*   Correlation analysis\n",
        "*   PCA analysis\n",
        "\n",
        "\n"
      ],
      "metadata": {
        "id": "k65xWqOm7Gao"
      },
      "id": "k65xWqOm7Gao"
    },
    {
      "cell_type": "code",
      "source": [
        "# Correlation analysis of on the data_train rather than df_credit_T\n",
        "# Because we want see the correlation with Risk \n",
        "\n",
        "plt.figure(figsize=(14,12))\n",
        "sns.heatmap(data_train.astype(float).corr(),linewidths=0.1,vmax=1.0, \n",
        "            square=True,  linecolor='white', annot=True)\n",
        "plt.show()"
      ],
      "metadata": {
        "colab": {
          "base_uri": "https://localhost:8080/",
          "height": 828
        },
        "id": "DqqyKEl_7hPQ",
        "outputId": "a15e7103-5e87-4149-dcf9-c78ab7117a17"
      },
      "id": "DqqyKEl_7hPQ",
      "execution_count": 22,
      "outputs": [
        {
          "output_type": "display_data",
          "data": {
            "text/plain": [
              "<Figure size 1008x864 with 2 Axes>"
            ],
            "image/png": "[encoded data removed]"
          },
          "metadata": {
            "needs_background": "light"
          }
        }
      ]
    },
    {
      "cell_type": "markdown",
      "source": [
        "The above correlation heatmap shows the correlations among the variables. Apart from the correlations between variables, Our attention should focus on the correlation between the predictor variables and the correlation between predictors and the target variable, Risk.\n",
        "\n",
        "Findings:\n",
        "1. The most positive correlation with Risk is: Checking account_little, Duration, saving account little, house_rent and Credit_amount.\n",
        "2. Checking account_no_info has a negative on the Risk.\n",
        "3. Correlation analysis provides basic information on the connections between predictors and the target variable."
      ],
      "metadata": {
        "id": "BKzIfa6376ot"
      },
      "id": "BKzIfa6376ot"
    },
    {
      "cell_type": "code",
      "source": [
        "# show the most influenced variables\n",
        "\n",
        "var_importance = data_train.corrwith(data_train[\"Risk\"]).abs()\n",
        "var_importance.sort_values(ascending=False)"
      ],
      "metadata": {
        "colab": {
          "base_uri": "https://localhost:8080/"
        },
        "id": "TsENuRTN8E-c",
        "outputId": "facecb63-950a-497f-cf01-66f7643537bd"
      },
      "id": "TsENuRTN8E-c",
      "execution_count": 23,
      "outputs": [
        {
          "output_type": "execute_result",
          "data": {
            "text/plain": [
              "Risk                           1.000000\n",
              "Checking account_no_inf        0.322436\n",
              "Checking account_little        0.258333\n",
              "Duration                       0.215280\n",
              "Housing_own                    0.134589\n",
              "Checking account_moderate      0.119581\n",
              "Credit amount                  0.109588\n",
              "Purpose_radio/TV               0.106922\n",
              "Age                            0.102463\n",
              "Housing_rent                   0.092785\n",
              "Saving accounts_rich           0.085749\n",
              "Housing_free                   0.081556\n",
              "Sex_female                     0.075493\n",
              "Sex_male                       0.075493\n",
              "Saving accounts_quite rich     0.070954\n",
              "Saving accounts_little         0.070234\n",
              "Purpose_education              0.049085\n",
              "Checking account_rich          0.044009\n",
              "Purpose_business               0.036129\n",
              "Job                            0.032735\n",
              "Purpose_vacation/others        0.028058\n",
              "Purpose_car                    0.022621\n",
              "Saving accounts_moderate       0.022255\n",
              "Purpose_furniture/equipment    0.020971\n",
              "Purpose_repairs                0.020828\n",
              "Purpose_domestic appliances    0.008016\n",
              "dtype: float64"
            ]
          },
          "metadata": {},
          "execution_count": 23
        }
      ]
    },
    {
      "cell_type": "markdown",
      "source": [
        "Findings:\n",
        "\n",
        "We can decide how many and which parameters to use with this order."
      ],
      "metadata": {
        "id": "TBtT_Phr8Zr6"
      },
      "id": "TBtT_Phr8Zr6"
    },
    {
      "cell_type": "markdown",
      "source": [
        "PCA Analysis\n",
        "\n",
        "With PCA, we can also find the number of features required to explain the variance in all candidate features. We have 25 features that can potentially be predictors. Let us see their prediction power over the target variable."
      ],
      "metadata": {
        "id": "sMXvjT388ls3"
      },
      "id": "sMXvjT388ls3"
    },
    {
      "cell_type": "code",
      "source": [
        "from sklearn.decomposition import PCA\n",
        "from sklearn.preprocessing import StandardScaler\n",
        "n=25\n",
        "columns=['PCA_1', 'PCA_2', 'PCA_3', 'PCA_4', 'PCA_5', 'PCA_6', 'PCA_7', \n",
        "         'PCA_8', 'PCA_9', 'PCA_10', 'PCA_11', 'PCA_12','PCA_13','PCA_14',\n",
        "         'PCA_15', 'PCA_16', 'PCA_17', 'PCA_18', 'PCA_19', 'PCA_20', 'PCA_21', \n",
        "         'PCA_22', 'PCA_23', 'PCA_24', 'PCA_25'\n",
        "        ]"
      ],
      "metadata": {
        "id": "lxl8VJ7M8n1I"
      },
      "id": "lxl8VJ7M8n1I",
      "execution_count": 24,
      "outputs": []
    },
    {
      "cell_type": "markdown",
      "source": [
        "PCA is affected by scale. So we need to scale the features in our data before applying PCA. The scale is done by using StandardScaler. It can standardize the dataset’s features onto a unit scale (mean = 0 and variance = 1), a requirement for the optimal performance of many machine learning algorithms."
      ],
      "metadata": {
        "id": "PsltxhAR8_7X"
      },
      "id": "PsltxhAR8_7X"
    },
    {
      "cell_type": "code",
      "source": [
        "# Standardizing the features\n",
        "# df_credit_T is the origianl dataset applied \n",
        "X = StandardScaler().fit_transform(df_credit_T)"
      ],
      "metadata": {
        "id": "uEono5Ch9C03"
      },
      "id": "uEono5Ch9C03",
      "execution_count": 25,
      "outputs": []
    },
    {
      "cell_type": "code",
      "source": [
        "# Create the PCA instance and fit and transform the data with pca\n",
        "pca = PCA(n_components=n)\n",
        "pc = pca.fit_transform(X)\n",
        "df_pc = pd.DataFrame(pc, columns=columns)\n",
        "df_pc.head()"
      ],
      "metadata": {
        "colab": {
          "base_uri": "https://localhost:8080/",
          "height": 386
        },
        "id": "9njZTk1D9H9u",
        "outputId": "ceca9434-b167-427d-d6d6-3a7f14da82ea"
      },
      "id": "9njZTk1D9H9u",
      "execution_count": 26,
      "outputs": [
        {
          "output_type": "execute_result",
          "data": {
            "text/plain": [
              "      PCA_1     PCA_2     PCA_3     PCA_4     PCA_5     PCA_6     PCA_7  \\\n",
              "0 -0.600711 -1.278510 -2.366800  0.741020 -1.218156 -0.144496 -0.557211   \n",
              "1  1.039185  0.401693  0.447350 -3.259128  0.887142 -1.365429 -0.413454   \n",
              "2 -0.719277 -1.304296 -1.229190  1.247007  0.258864 -1.267335 -0.415921   \n",
              "3 -1.471888  3.497006 -0.715704  0.524794 -0.058882  1.139820 -0.754233   \n",
              "4 -1.871967  3.078152 -0.709569  2.127638 -0.637485 -0.643114  0.301065   \n",
              "\n",
              "      PCA_8     PCA_9    PCA_10  ...    PCA_16    PCA_17    PCA_18    PCA_19  \\\n",
              "0  0.373424  1.023033 -0.409206  ...  0.536494 -1.240949 -1.084859  1.434267   \n",
              "1 -0.413842  1.065483 -0.099424  ... -0.892951  0.336264  0.605081 -0.235964   \n",
              "2  1.373027 -2.335661 -0.925452  ... -0.183524  1.534062  1.042763  1.064686   \n",
              "3  2.234971  0.386154  0.138861  ... -0.552599 -1.620929  1.067809 -0.262236   \n",
              "4  0.431371  0.768894 -0.140053  ... -0.103138 -1.132354  0.341589 -0.346131   \n",
              "\n",
              "     PCA_20        PCA_21        PCA_22        PCA_23        PCA_24  \\\n",
              "0  0.618480 -1.574438e-15 -5.206156e-15  3.481404e-16  1.560635e-15   \n",
              "1 -0.003262 -2.744729e-16  7.493516e-16  1.458650e-15  1.466017e-15   \n",
              "2  0.400208 -5.787976e-17 -1.834610e-15  4.958839e-17  3.845531e-16   \n",
              "3  0.013491  1.483929e-15  6.460745e-16  6.341452e-16 -6.769278e-17   \n",
              "4  0.226346  7.253392e-15  3.686203e-15 -2.527994e-15  3.272468e-15   \n",
              "\n",
              "         PCA_25  \n",
              "0 -7.790059e-17  \n",
              "1 -2.378389e-16  \n",
              "2 -4.929519e-17  \n",
              "3 -1.189507e-16  \n",
              "4  1.828142e-15  \n",
              "\n",
              "[5 rows x 25 columns]"
            ],
            "text/html": [
              "\n",
              "  <div id=\"df-6c818167-a768-418e-985d-a31469103344\">\n",
              "    <div class=\"colab-df-container\">\n",
              "      <div>\n",
              "<style scoped>\n",
              "    .dataframe tbody tr th:only-of-type {\n",
              "        vertical-align: middle;\n",
              "    }\n",
              "\n",
              "    .dataframe tbody tr th {\n",
              "        vertical-align: top;\n",
              "    }\n",
              "\n",
              "    .dataframe thead th {\n",
              "        text-align: right;\n",
              "    }\n",
              "</style>\n",
              "<table border=\"1\" class=\"dataframe\">\n",
              "  <thead>\n",
              "    <tr style=\"text-align: right;\">\n",
              "      <th></th>\n",
              "      <th>PCA_1</th>\n",
              "      <th>PCA_2</th>\n",
              "      <th>PCA_3</th>\n",
              "      <th>PCA_4</th>\n",
              "      <th>PCA_5</th>\n",
              "      <th>PCA_6</th>\n",
              "      <th>PCA_7</th>\n",
              "      <th>PCA_8</th>\n",
              "      <th>PCA_9</th>\n",
              "      <th>PCA_10</th>\n",
              "      <th>...</th>\n",
              "      <th>PCA_16</th>\n",
              "      <th>PCA_17</th>\n",
              "      <th>PCA_18</th>\n",
              "      <th>PCA_19</th>\n",
              "      <th>PCA_20</th>\n",
              "      <th>PCA_21</th>\n",
              "      <th>PCA_22</th>\n",
              "      <th>PCA_23</th>\n",
              "      <th>PCA_24</th>\n",
              "      <th>PCA_25</th>\n",
              "    </tr>\n",
              "  </thead>\n",
              "  <tbody>\n",
              "    <tr>\n",
              "      <th>0</th>\n",
              "      <td>-0.600711</td>\n",
              "      <td>-1.278510</td>\n",
              "      <td>-2.366800</td>\n",
              "      <td>0.741020</td>\n",
              "      <td>-1.218156</td>\n",
              "      <td>-0.144496</td>\n",
              "      <td>-0.557211</td>\n",
              "      <td>0.373424</td>\n",
              "      <td>1.023033</td>\n",
              "      <td>-0.409206</td>\n",
              "      <td>...</td>\n",
              "      <td>0.536494</td>\n",
              "      <td>-1.240949</td>\n",
              "      <td>-1.084859</td>\n",
              "      <td>1.434267</td>\n",
              "      <td>0.618480</td>\n",
              "      <td>-1.574438e-15</td>\n",
              "      <td>-5.206156e-15</td>\n",
              "      <td>3.481404e-16</td>\n",
              "      <td>1.560635e-15</td>\n",
              "      <td>-7.790059e-17</td>\n",
              "    </tr>\n",
              "    <tr>\n",
              "      <th>1</th>\n",
              "      <td>1.039185</td>\n",
              "      <td>0.401693</td>\n",
              "      <td>0.447350</td>\n",
              "      <td>-3.259128</td>\n",
              "      <td>0.887142</td>\n",
              "      <td>-1.365429</td>\n",
              "      <td>-0.413454</td>\n",
              "      <td>-0.413842</td>\n",
              "      <td>1.065483</td>\n",
              "      <td>-0.099424</td>\n",
              "      <td>...</td>\n",
              "      <td>-0.892951</td>\n",
              "      <td>0.336264</td>\n",
              "      <td>0.605081</td>\n",
              "      <td>-0.235964</td>\n",
              "      <td>-0.003262</td>\n",
              "      <td>-2.744729e-16</td>\n",
              "      <td>7.493516e-16</td>\n",
              "      <td>1.458650e-15</td>\n",
              "      <td>1.466017e-15</td>\n",
              "      <td>-2.378389e-16</td>\n",
              "    </tr>\n",
              "    <tr>\n",
              "      <th>2</th>\n",
              "      <td>-0.719277</td>\n",
              "      <td>-1.304296</td>\n",
              "      <td>-1.229190</td>\n",
              "      <td>1.247007</td>\n",
              "      <td>0.258864</td>\n",
              "      <td>-1.267335</td>\n",
              "      <td>-0.415921</td>\n",
              "      <td>1.373027</td>\n",
              "      <td>-2.335661</td>\n",
              "      <td>-0.925452</td>\n",
              "      <td>...</td>\n",
              "      <td>-0.183524</td>\n",
              "      <td>1.534062</td>\n",
              "      <td>1.042763</td>\n",
              "      <td>1.064686</td>\n",
              "      <td>0.400208</td>\n",
              "      <td>-5.787976e-17</td>\n",
              "      <td>-1.834610e-15</td>\n",
              "      <td>4.958839e-17</td>\n",
              "      <td>3.845531e-16</td>\n",
              "      <td>-4.929519e-17</td>\n",
              "    </tr>\n",
              "    <tr>\n",
              "      <th>3</th>\n",
              "      <td>-1.471888</td>\n",
              "      <td>3.497006</td>\n",
              "      <td>-0.715704</td>\n",
              "      <td>0.524794</td>\n",
              "      <td>-0.058882</td>\n",
              "      <td>1.139820</td>\n",
              "      <td>-0.754233</td>\n",
              "      <td>2.234971</td>\n",
              "      <td>0.386154</td>\n",
              "      <td>0.138861</td>\n",
              "      <td>...</td>\n",
              "      <td>-0.552599</td>\n",
              "      <td>-1.620929</td>\n",
              "      <td>1.067809</td>\n",
              "      <td>-0.262236</td>\n",
              "      <td>0.013491</td>\n",
              "      <td>1.483929e-15</td>\n",
              "      <td>6.460745e-16</td>\n",
              "      <td>6.341452e-16</td>\n",
              "      <td>-6.769278e-17</td>\n",
              "      <td>-1.189507e-16</td>\n",
              "    </tr>\n",
              "    <tr>\n",
              "      <th>4</th>\n",
              "      <td>-1.871967</td>\n",
              "      <td>3.078152</td>\n",
              "      <td>-0.709569</td>\n",
              "      <td>2.127638</td>\n",
              "      <td>-0.637485</td>\n",
              "      <td>-0.643114</td>\n",
              "      <td>0.301065</td>\n",
              "      <td>0.431371</td>\n",
              "      <td>0.768894</td>\n",
              "      <td>-0.140053</td>\n",
              "      <td>...</td>\n",
              "      <td>-0.103138</td>\n",
              "      <td>-1.132354</td>\n",
              "      <td>0.341589</td>\n",
              "      <td>-0.346131</td>\n",
              "      <td>0.226346</td>\n",
              "      <td>7.253392e-15</td>\n",
              "      <td>3.686203e-15</td>\n",
              "      <td>-2.527994e-15</td>\n",
              "      <td>3.272468e-15</td>\n",
              "      <td>1.828142e-15</td>\n",
              "    </tr>\n",
              "  </tbody>\n",
              "</table>\n",
              "<p>5 rows × 25 columns</p>\n",
              "</div>\n",
              "      <button class=\"colab-df-convert\" onclick=\"convertToInteractive('df-6c818167-a768-418e-985d-a31469103344')\"\n",
              "              title=\"Convert this dataframe to an interactive table.\"\n",
              "              style=\"display:none;\">\n",
              "        \n",
              "  <svg xmlns=\"http://www.w3.org/2000/svg\" height=\"24px\"viewBox=\"0 0 24 24\"\n",
              "       width=\"24px\">\n",
              "    <path d=\"M0 0h24v24H0V0z\" fill=\"none\"/>\n",
              "    <path d=\"M18.56 5.44l.94 2.06.94-2.06 2.06-.94-2.06-.94-.94-2.06-.94 2.06-2.06.94zm-11 1L8.5 8.5l.94-2.06 2.06-.94-2.06-.94L8.5 2.5l-.94 2.06-2.06.94zm10 10l.94 2.06.94-2.06 2.06-.94-2.06-.94-.94-2.06-.94 2.06-2.06.94z\"/><path d=\"M17.41 7.96l-1.37-1.37c-.4-.4-.92-.59-1.43-.59-.52 0-1.04.2-1.43.59L10.3 9.45l-7.72 7.72c-.78.78-.78 2.05 0 2.83L4 21.41c.39.39.9.59 1.41.59.51 0 1.02-.2 1.41-.59l7.78-7.78 2.81-2.81c.8-.78.8-2.07 0-2.86zM5.41 20L4 18.59l7.72-7.72 1.47 1.35L5.41 20z\"/>\n",
              "  </svg>\n",
              "      </button>\n",
              "      \n",
              "  <style>\n",
              "    .colab-df-container {\n",
              "      display:flex;\n",
              "      flex-wrap:wrap;\n",
              "      gap: 12px;\n",
              "    }\n",
              "\n",
              "    .colab-df-convert {\n",
              "      background-color: #E8F0FE;\n",
              "      border: none;\n",
              "      border-radius: 50%;\n",
              "      cursor: pointer;\n",
              "      display: none;\n",
              "      fill: #1967D2;\n",
              "      height: 32px;\n",
              "      padding: 0 0 0 0;\n",
              "      width: 32px;\n",
              "    }\n",
              "\n",
              "    .colab-df-convert:hover {\n",
              "      background-color: #E2EBFA;\n",
              "      box-shadow: 0px 1px 2px rgba(60, 64, 67, 0.3), 0px 1px 3px 1px rgba(60, 64, 67, 0.15);\n",
              "      fill: #174EA6;\n",
              "    }\n",
              "\n",
              "    [theme=dark] .colab-df-convert {\n",
              "      background-color: #3B4455;\n",
              "      fill: #D2E3FC;\n",
              "    }\n",
              "\n",
              "    [theme=dark] .colab-df-convert:hover {\n",
              "      background-color: #434B5C;\n",
              "      box-shadow: 0px 1px 3px 1px rgba(0, 0, 0, 0.15);\n",
              "      filter: drop-shadow(0px 1px 2px rgba(0, 0, 0, 0.3));\n",
              "      fill: #FFFFFF;\n",
              "    }\n",
              "  </style>\n",
              "\n",
              "      <script>\n",
              "        const buttonEl =\n",
              "          document.querySelector('#df-6c818167-a768-418e-985d-a31469103344 button.colab-df-convert');\n",
              "        buttonEl.style.display =\n",
              "          google.colab.kernel.accessAllowed ? 'block' : 'none';\n",
              "\n",
              "        async function convertToInteractive(key) {\n",
              "          const element = document.querySelector('#df-6c818167-a768-418e-985d-a31469103344');\n",
              "          const dataTable =\n",
              "            await google.colab.kernel.invokeFunction('convertToInteractive',\n",
              "                                                     [key], {});\n",
              "          if (!dataTable) return;\n",
              "\n",
              "          const docLinkHtml = 'Like what you see? Visit the ' +\n",
              "            '<a target=\"_blank\" href=https://colab.research.google.com/notebooks/data_table.ipynb>data table notebook</a>'\n",
              "            + ' to learn more about interactive tables.';\n",
              "          element.innerHTML = '';\n",
              "          dataTable['output_type'] = 'display_data';\n",
              "          await google.colab.output.renderOutput(dataTable, element);\n",
              "          const docLink = document.createElement('div');\n",
              "          docLink.innerHTML = docLinkHtml;\n",
              "          element.appendChild(docLink);\n",
              "        }\n",
              "      </script>\n",
              "    </div>\n",
              "  </div>\n",
              "  "
            ]
          },
          "metadata": {},
          "execution_count": 26
        }
      ]
    },
    {
      "cell_type": "markdown",
      "source": [
        "The DataFrame df_pc shows the explained variance, which is the information (variance) attributed by each of the principal components. It this important that we know how much information contribution can be accumulated by a number of the principle components together. PCA.explained_varianceratio tell us the percentage (importance) of each PC. Notice that this analysis does not link predictors with the target variable."
      ],
      "metadata": {
        "id": "rldgXJng9Y48"
      },
      "id": "rldgXJng9Y48"
    },
    {
      "cell_type": "code",
      "source": [
        "pca.explained_variance_ratio_"
      ],
      "metadata": {
        "colab": {
          "base_uri": "https://localhost:8080/"
        },
        "id": "YoiuG4YX9bcF",
        "outputId": "5548dc56-707a-4381-dad4-6c63a9085ed9"
      },
      "id": "YoiuG4YX9bcF",
      "execution_count": 27,
      "outputs": [
        {
          "output_type": "execute_result",
          "data": {
            "text/plain": [
              "array([9.97973265e-02, 9.26018895e-02, 7.98091938e-02, 6.84952199e-02,\n",
              "       6.12068957e-02, 5.61772064e-02, 5.48306165e-02, 4.97029669e-02,\n",
              "       4.78034574e-02, 4.40624541e-02, 4.35753445e-02, 4.14294789e-02,\n",
              "       4.08266148e-02, 3.93405672e-02, 3.86724483e-02, 3.67979494e-02,\n",
              "       3.44938726e-02, 3.04768911e-02, 2.65751092e-02, 1.33244973e-02,\n",
              "       1.85857622e-32, 9.36309191e-33, 7.42902894e-33, 2.05798821e-33,\n",
              "       2.45860213e-34])"
            ]
          },
          "metadata": {},
          "execution_count": 27
        }
      ]
    },
    {
      "cell_type": "markdown",
      "source": [
        "Finding: \n",
        "\n",
        "Explained_varianceratio tells us that the first principal component contains 9.98% of the variance, and the second principal component contains 9.26%. Together, the two components contain nearly 20% of the information."
      ],
      "metadata": {
        "id": "JlJPyZeO9kiB"
      },
      "id": "JlJPyZeO9kiB"
    },
    {
      "cell_type": "code",
      "source": [
        "# Create a DataFrame for visulisation\n",
        "pca_df = pd.DataFrame({'Variance Explained':pca.explained_variance_ratio_,\n",
        "             'PC':df_pc.columns})\n",
        "\n",
        "plt.figure(figsize=(8, 8))\n",
        "plt.title('PCA - explained variance ratio')\n",
        "# Plot DataFrame\n",
        "sns.barplot(x='PC',y='Variance Explained', \n",
        "           data=pca_df, color=\"c\")\n",
        "plt.xticks(rotation=45)\n",
        "plt.show()"
      ],
      "metadata": {
        "colab": {
          "base_uri": "https://localhost:8080/",
          "height": 537
        },
        "id": "JjWwP9p_9n46",
        "outputId": "5648f814-323e-4ae1-d79c-f71cc8cd4687"
      },
      "id": "JjWwP9p_9n46",
      "execution_count": 28,
      "outputs": [
        {
          "output_type": "display_data",
          "data": {
            "text/plain": [
              "<Figure size 576x576 with 1 Axes>"
            ],
            "image/png": "[encoded data removed]"
          },
          "metadata": {
            "needs_background": "light"
          }
        }
      ]
    },
    {
      "cell_type": "markdown",
      "source": [
        "Plot the cumulated (variance) information contribution"
      ],
      "metadata": {
        "id": "XM7umISK9xip"
      },
      "id": "XM7umISK9xip"
    },
    {
      "cell_type": "code",
      "source": [
        "plt.figure(figsize=(8, 8))\n",
        "# Instantiate, fit and transform\n",
        "\n",
        "var = pca.explained_variance_ratio_\n",
        "\n",
        "# Plot cumulative variance\n",
        "cumulative_var = np.cumsum(var)*100\n",
        "plt.plot(cumulative_var,'k-o',markerfacecolor='None',markeredgecolor='k')\n",
        "plt.title('Principal Component Analysis \\n Cumulative Proportion of Variance Explained',fontsize=12)\n",
        "plt.xlabel(\"Principal Component\",fontsize=12)\n",
        "plt.ylabel(\"Cumulative Proportion of Variance \",fontsize=12)\n",
        "plt.show()"
      ],
      "metadata": {
        "colab": {
          "base_uri": "https://localhost:8080/",
          "height": 531
        },
        "id": "2WORg4hO9y2Z",
        "outputId": "732acb2b-f000-4b52-87de-e091ad4cc0ee"
      },
      "id": "2WORg4hO9y2Z",
      "execution_count": 29,
      "outputs": [
        {
          "output_type": "display_data",
          "data": {
            "text/plain": [
              "<Figure size 576x576 with 1 Axes>"
            ],
            "image/png": "[encoded data removed]"
          },
          "metadata": {
            "needs_background": "light"
          }
        }
      ]
    },
    {
      "cell_type": "markdown",
      "source": [
        "Finding:\n",
        "\n",
        "From the plots above, we see that approximately 17 features are needed to explain 90% of the variance in the dataset. This gives us a good intuition of the number of features required in our model.\n",
        "\n",
        "For the minimum number of predictors to achieve the best performance, the number of predictors is 20. With correlation analysis, we can choose the 20 predictors.\n",
        "\n",
        "\n",
        "---\n",
        "\n",
        "Next: Assess models' performance after features selection\n"
      ],
      "metadata": {
        "id": "MqkXBs56-AB_"
      },
      "id": "MqkXBs56-AB_"
    },
    {
      "cell_type": "code",
      "source": [
        "# Data preparation\n",
        "X = df_credit_T.drop(['Purpose_car', 'Saving accounts_moderate', 'Purpose_furniture/equipment', 'Purpose_repairs', 'Purpose_domestic appliances'], axis=1)\n",
        "y = df_y\n",
        "\n",
        "X_train, X_test, y_train, y_test = train_test_split(X, y, test_size=0.25, random_state=42)"
      ],
      "metadata": {
        "id": "6xRzJU2i-MU9"
      },
      "id": "6xRzJU2i-MU9",
      "execution_count": 30,
      "outputs": []
    },
    {
      "cell_type": "code",
      "source": [
        "# to feed the random state\n",
        "seed = 42\n",
        "\n",
        "# prepare models\n",
        "models = []\n",
        "models.append(('SVM', SVC(gamma='auto')))\n",
        "models.append(('NB', GaussianNB()))\n",
        "models.append(('DT', DecisionTreeClassifier()))\n",
        "models.append(('XGB', XGBClassifier()))\n",
        "models.append(('KNN', KNeighborsClassifier()))\n",
        "\n",
        "# evaluate each model in turn\n",
        "results = []\n",
        "names = []\n",
        "\n",
        "for name, model in models:\n",
        "        model.fit(X_train, y_train)\n",
        "        pre_results = model.predict(X_test)\n",
        "        model_acc = accuracy_score(y_test, pre_results)\n",
        "        names.append(name)\n",
        "        results.append(model_acc)\n",
        "        print(f\"Modal: {name} has {model_acc} accuracy\")      \n",
        "\n",
        "# boxplot algorithm comparison\n",
        "results_df = pd.DataFrame({'Model Names':names, 'Results':results})\n",
        "\n",
        "print()\n",
        "\n",
        "#print(results_df)\n",
        "fig = plt.figure(figsize=(11,6))\n",
        "fig.suptitle('Algorithm Comparison')\n",
        "\n",
        "results_df.plot.bar(x='Model Names',rot=45)\n",
        "\n",
        "plt.show()"
      ],
      "metadata": {
        "colab": {
          "base_uri": "https://localhost:8080/",
          "height": 414
        },
        "id": "uy6EsdlV-lN3",
        "outputId": "d109269c-31fc-476d-fa46-7e97d5876073"
      },
      "id": "uy6EsdlV-lN3",
      "execution_count": 31,
      "outputs": [
        {
          "output_type": "stream",
          "name": "stdout",
          "text": [
            "Modal: SVM has 0.728 accuracy\n",
            "Modal: NB has 0.668 accuracy\n",
            "Modal: DT has 0.668 accuracy\n",
            "Modal: XGB has 0.728 accuracy\n",
            "Modal: KNN has 0.712 accuracy\n",
            "\n"
          ]
        },
        {
          "output_type": "display_data",
          "data": {
            "text/plain": [
              "<Figure size 792x432 with 0 Axes>"
            ]
          },
          "metadata": {}
        },
        {
          "output_type": "display_data",
          "data": {
            "text/plain": [
              "<Figure size 432x288 with 1 Axes>"
            ],
            "image/png": "[encoded data removed]"
          },
          "metadata": {
            "needs_background": "light"
          }
        }
      ]
    },
    {
      "cell_type": "markdown",
      "source": [
        "Findings:\n",
        "\n",
        "We can see after select predictors the noice has been reduced, so all models' performace has been improved."
      ],
      "metadata": {
        "id": "VZI7IQTN-1cj"
      },
      "id": "VZI7IQTN-1cj"
    },
    {
      "cell_type": "markdown",
      "source": [
        "Fine tune RF Hyper Parameters with K-fold CV\n",
        "\n",
        "Cross Validation is an important method in Machine Learning and model construction. In k-fold CV, the training set is split into k smaller sets. The following procedure is followed for each of the k “folds”:\n",
        "\n",
        "A model is trained (constructed) using the folds as training data;\n",
        "\n",
        "The model is then validated on the remaining part of the data (i.e., it is used as a test set to compute a performance measure such as accuracy).\n",
        "\n",
        "The performance measure reported by k-fold cross-validation is the average of the values computed in the loop.\n",
        "\n",
        "This approach can be computationally expensive but does not waste too much data (as is the case when fixing an arbitrary validation set), which is a major advantage where the number of samples is very small."
      ],
      "metadata": {
        "id": "6MKUSjlu-6vU"
      },
      "id": "6MKUSjlu-6vU"
    },
    {
      "cell_type": "code",
      "source": [
        "# Data preparation\n",
        "X = df_credit_T.drop(['Purpose_car', 'Saving accounts_moderate', 'Purpose_furniture/equipment', 'Purpose_repairs', 'Purpose_domestic appliances'], axis=1)\n",
        "y = df_y\n",
        "\n",
        "X_train, X_test, y_train, y_test = train_test_split(X, y, test_size=0.25, random_state=42)"
      ],
      "metadata": {
        "id": "o0dSeNqO_TOG"
      },
      "id": "o0dSeNqO_TOG",
      "execution_count": 32,
      "outputs": []
    },
    {
      "cell_type": "code",
      "source": [
        "# Data preparation\n",
        "X = df_credit_T.drop(['Purpose_car', 'Saving accounts_moderate', 'Purpose_furniture/equipment', 'Purpose_repairs', 'Purpose_domestic appliances'], axis=1)\n",
        "y = df_y\n",
        "\n",
        "X_train, X_test, y_train, y_test = train_test_split(X, y, test_size=0.25, random_state=42)\n",
        "# to feed the random state\n",
        "seed = 42\n",
        "\n",
        "# prepare models\n",
        "models = []\n",
        "\n",
        "models.append(('SVM', SVC(gamma='auto')))\n",
        "models.append(('NB', GaussianNB()))\n",
        "models.append(('DT', DecisionTreeClassifier()))\n",
        "models.append(('XGB', XGBClassifier()))\n",
        "models.append(('KNN', KNeighborsClassifier()))\n",
        "\n",
        "# evaluate each model in turn\n",
        "results = []\n",
        "validates = []\n",
        "names = []\n",
        "scoring = 'accuracy'\n",
        "\n",
        "for name, model in models:\n",
        "        \n",
        "        kfold = KFold(n_splits=10, shuffle=True, random_state=seed)\n",
        "        cv_results = cross_val_score(model, X, y, cv=kfold, scoring=scoring)\n",
        "        results.append(cv_results)\n",
        "        names.append(name)\n",
        "        msg = \"%s accuracy= %0.3f  and sd = %0.3f)\" % (name, cv_results.mean(), cv_results.std())\n",
        "        print(msg)  \n",
        "        \n",
        "# boxplot algorithm comparison\n",
        "fig = plt.figure(figsize=(11,6))\n",
        "fig.suptitle('Algorithm Comparison')\n",
        "ax = fig.add_subplot(111)\n",
        "plt.boxplot(results)\n",
        "ax.set_xticklabels(names)\n",
        "plt.show()\n"
      ],
      "metadata": {
        "colab": {
          "base_uri": "https://localhost:8080/",
          "height": 504
        },
        "id": "-wPkPRXz_aXz",
        "outputId": "1ce67bef-4613-4cfe-d0b7-6cd357b89de8"
      },
      "id": "-wPkPRXz_aXz",
      "execution_count": 33,
      "outputs": [
        {
          "output_type": "stream",
          "name": "stdout",
          "text": [
            "SVM accuracy= 0.713  and sd = 0.042)\n",
            "NB accuracy= 0.691  and sd = 0.068)\n",
            "DT accuracy= 0.636  and sd = 0.041)\n",
            "XGB accuracy= 0.743  and sd = 0.041)\n",
            "KNN accuracy= 0.701  and sd = 0.038)\n"
          ]
        },
        {
          "output_type": "display_data",
          "data": {
            "text/plain": [
              "<Figure size 792x432 with 1 Axes>"
            ],
            "image/png": "[encoded data removed]"
          },
          "metadata": {
            "needs_background": "light"
          }
        }
      ]
    },
    {
      "cell_type": "markdown",
      "source": [
        "Finding:\n",
        "\n",
        "All models' performance has been improved with K=10 fold CV.\n",
        "\n",
        "K-fold CV is useful to eliminate overfitting.\n",
        "This can be confirmed by using cross_validate, which we can export the training and the testing accuracy. The training accuracy is the mean accuracy on the X_train and y_train, and the test accuracy is the accuracy on X_test and y_test. That is the accuracy we used in the previous evaluation."
      ],
      "metadata": {
        "id": "KGuc8BbVAcX-"
      },
      "id": "KGuc8BbVAcX-"
    },
    {
      "cell_type": "code",
      "source": [
        "from sklearn.model_selection import cross_validate\n",
        "# to feed the random state\n",
        "seed = 42\n",
        "\n",
        "# prepare models\n",
        "models = []\n",
        "models.append(('SVM', SVC(gamma='auto')))\n",
        "models.append(('NB', GaussianNB()))\n",
        "models.append(('DT', DecisionTreeClassifier()))\n",
        "models.append(('XGB', XGBClassifier()))\n",
        "models.append(('KNN', KNeighborsClassifier()))\n",
        "\n",
        "# evaluate each model in turn\n",
        "results = []\n",
        "validates = []\n",
        "names = []\n",
        "scoring = 'accuracy'\n",
        "\n",
        "for name, model in models:\n",
        "        \n",
        "        kfold = KFold(n_splits=10, shuffle=True, random_state=seed)\n",
        "        CV_results = cross_validate(model, X, y, cv=kfold, return_train_score=True)\n",
        "        model_acc = CV_results['train_score']\n",
        "        model_val = CV_results['test_score']\n",
        "        validates.append(model_val) \n",
        "        names.append(name)\n",
        "        results.append(model_acc)\n",
        "        msg = \"Model %s has: %0.3f train accuracy, %0.3f test accuracy\" % (name, model_acc.mean(), model_val.mean())\n",
        "        print(msg)      \n",
        "\n",
        "print()\n",
        "# boxplot algorithm comparison\n",
        "fig = plt.figure(figsize=(11,6))\n",
        "fig.suptitle('Algorithm Comparison')\n",
        "ax = fig.add_subplot(111)\n",
        "plt.boxplot(validates)\n",
        "ax.set_xticklabels(names)\n",
        "plt.show()"
      ],
      "metadata": {
        "colab": {
          "base_uri": "https://localhost:8080/",
          "height": 521
        },
        "id": "6SV3UW2cA1S8",
        "outputId": "77610b88-ea95-409a-a312-72090411c1be"
      },
      "id": "6SV3UW2cA1S8",
      "execution_count": 34,
      "outputs": [
        {
          "output_type": "stream",
          "name": "stdout",
          "text": [
            "Model SVM has: 0.735 train accuracy, 0.713 test accuracy\n",
            "Model NB has: 0.701 train accuracy, 0.691 test accuracy\n",
            "Model DT has: 1.000 train accuracy, 0.635 test accuracy\n",
            "Model XGB has: 0.846 train accuracy, 0.743 test accuracy\n",
            "Model KNN has: 0.802 train accuracy, 0.701 test accuracy\n",
            "\n"
          ]
        },
        {
          "output_type": "display_data",
          "data": {
            "text/plain": [
              "<Figure size 792x432 with 1 Axes>"
            ],
            "image/png": "[encoded data removed]"
          },
          "metadata": {
            "needs_background": "light"
          }
        }
      ]
    },
    {
      "cell_type": "markdown",
      "source": [
        "Finding: \n",
        "\n",
        "We can see that all models has a sligh higher accuracy on the training and a lower accuracy on test. It shows all our models has \"overfitting\""
      ],
      "metadata": {
        "id": "UnMg6jm3CynQ"
      },
      "id": "UnMg6jm3CynQ"
    },
    {
      "cell_type": "markdown",
      "source": [
        "Model fine tune with proper Hyperparameter setting\n",
        "\n",
        "All models used so far take default parameters. It is a common practice to fine-tune hyperparameters for models used in the final prediction. \n",
        "\n",
        "1. We are using GridSearchCV to tune the model by searching for the best hyperparameters and keeping the classifier with the highest recall score.\n",
        "\n",
        "2. Adjust the decision threshold using the precision-recall and the roc curves, which is a more involved method I will walk through."
      ],
      "metadata": {
        "id": "jbqXNO1gC2EI"
      },
      "id": "jbqXNO1gC2EI"
    },
    {
      "cell_type": "markdown",
      "source": [
        "# Randomized Search Cross validation "
      ],
      "metadata": {
        "id": "OxOvCD7fQ9XP"
      },
      "id": "OxOvCD7fQ9XP"
    },
    {
      "cell_type": "code",
      "source": [
        "from sklearn.model_selection import RandomizedSearchCV\n",
        "from scipy.stats import reciprocal, uniform\n",
        "from sklearn.metrics import mean_squared_error\n",
        "from scipy.stats import randint"
      ],
      "metadata": {
        "id": "ekH9NraqPGOG"
      },
      "id": "ekH9NraqPGOG",
      "execution_count": 35,
      "outputs": []
    },
    {
      "cell_type": "markdown",
      "source": [
        "# Support Vector Machine"
      ],
      "metadata": {
        "id": "v-WqxEpXKtm1"
      },
      "id": "v-WqxEpXKtm1"
    },
    {
      "cell_type": "code",
      "source": [
        "svmModel =  SVC(gamma=\"scale\")\n",
        "\n",
        "svm_param_distributions = {\"gamma\": reciprocal(0.001, 0.1), \"C\": uniform(1, 10)}\n",
        "svm_rnd_search_cv = RandomizedSearchCV(svmModel, svm_param_distributions, n_iter=10, verbose=2, cv=3)\n",
        "\n",
        "svm_rnd_search_cv.fit(X_train, y_train)"
      ],
      "metadata": {
        "colab": {
          "base_uri": "https://localhost:8080/"
        },
        "id": "GNP7ZDR4Hyce",
        "outputId": "2b1feacf-eb02-40cf-8468-aefa94c1ad24"
      },
      "id": "GNP7ZDR4Hyce",
      "execution_count": 43,
      "outputs": [
        {
          "output_type": "stream",
          "name": "stdout",
          "text": [
            "Fitting 3 folds for each of 10 candidates, totalling 30 fits\n",
            "[CV] END ....C=4.638701214932408, gamma=0.001031739669341076; total time=   0.0s\n",
            "[CV] END ....C=4.638701214932408, gamma=0.001031739669341076; total time=   0.0s\n",
            "[CV] END ....C=4.638701214932408, gamma=0.001031739669341076; total time=   0.0s\n",
            "[CV] END ....C=7.824705624858519, gamma=0.034343109066578274; total time=   0.0s\n",
            "[CV] END ....C=7.824705624858519, gamma=0.034343109066578274; total time=   0.0s\n",
            "[CV] END ....C=7.824705624858519, gamma=0.034343109066578274; total time=   0.0s\n",
            "[CV] END ....C=8.822976750345298, gamma=0.035966872737595794; total time=   0.0s\n",
            "[CV] END ....C=8.822976750345298, gamma=0.035966872737595794; total time=   0.0s\n",
            "[CV] END ....C=8.822976750345298, gamma=0.035966872737595794; total time=   0.0s\n",
            "[CV] END ...C=3.1789858061455467, gamma=0.006651285486978009; total time=   0.0s\n",
            "[CV] END ...C=3.1789858061455467, gamma=0.006651285486978009; total time=   0.0s\n",
            "[CV] END ...C=3.1789858061455467, gamma=0.006651285486978009; total time=   0.0s\n",
            "[CV] END ...C=5.475017904378628, gamma=0.0011475278638371175; total time=   0.0s\n",
            "[CV] END ...C=5.475017904378628, gamma=0.0011475278638371175; total time=   0.0s\n",
            "[CV] END ...C=5.475017904378628, gamma=0.0011475278638371175; total time=   0.0s\n",
            "[CV] END .....C=9.480966142562474, gamma=0.07345518181694705; total time=   0.0s\n",
            "[CV] END .....C=9.480966142562474, gamma=0.07345518181694705; total time=   0.0s\n",
            "[CV] END .....C=9.480966142562474, gamma=0.07345518181694705; total time=   0.0s\n",
            "[CV] END ...C=4.5268806199376215, gamma=0.001620908708715251; total time=   0.0s\n",
            "[CV] END ...C=4.5268806199376215, gamma=0.001620908708715251; total time=   0.0s\n",
            "[CV] END ...C=4.5268806199376215, gamma=0.001620908708715251; total time=   0.0s\n",
            "[CV] END ....C=7.281593217858498, gamma=0.008743774513867946; total time=   0.0s\n",
            "[CV] END ....C=7.281593217858498, gamma=0.008743774513867946; total time=   0.0s\n",
            "[CV] END ....C=7.281593217858498, gamma=0.008743774513867946; total time=   0.0s\n",
            "[CV] END ...C=10.982331798564736, gamma=0.008332273943807223; total time=   0.0s\n",
            "[CV] END ...C=10.982331798564736, gamma=0.008332273943807223; total time=   0.0s\n",
            "[CV] END ...C=10.982331798564736, gamma=0.008332273943807223; total time=   0.0s\n",
            "[CV] END .....C=8.162605498589805, gamma=0.05952773533839616; total time=   0.0s\n",
            "[CV] END .....C=8.162605498589805, gamma=0.05952773533839616; total time=   0.0s\n",
            "[CV] END .....C=8.162605498589805, gamma=0.05952773533839616; total time=   0.0s\n"
          ]
        },
        {
          "output_type": "execute_result",
          "data": {
            "text/plain": [
              "RandomizedSearchCV(cv=3, estimator=SVC(),\n",
              "                   param_distributions={'C': <scipy.stats._distn_infrastructure.rv_frozen object at 0x7f54d54e4950>,\n",
              "                                        'gamma': <scipy.stats._distn_infrastructure.rv_frozen object at 0x7f54d5926110>},\n",
              "                   verbose=2)"
            ]
          },
          "metadata": {},
          "execution_count": 43
        }
      ]
    },
    {
      "cell_type": "code",
      "source": [
        "svm_rnd_search_cv.best_estimator_"
      ],
      "metadata": {
        "colab": {
          "base_uri": "https://localhost:8080/"
        },
        "id": "5u7Y3wnhIT-t",
        "outputId": "b445cc52-8c36-4a86-f748-78d28778ad85"
      },
      "id": "5u7Y3wnhIT-t",
      "execution_count": 44,
      "outputs": [
        {
          "output_type": "execute_result",
          "data": {
            "text/plain": [
              "SVC(C=9.480966142562474, gamma=0.07345518181694705)"
            ]
          },
          "metadata": {},
          "execution_count": 44
        }
      ]
    },
    {
      "cell_type": "code",
      "source": [
        "svm_rnd_search_cv.best_score_"
      ],
      "metadata": {
        "colab": {
          "base_uri": "https://localhost:8080/"
        },
        "id": "QDXTEOofIZUm",
        "outputId": "997415e3-c503-41c7-cc88-456a755f5a8e"
      },
      "id": "QDXTEOofIZUm",
      "execution_count": 45,
      "outputs": [
        {
          "output_type": "execute_result",
          "data": {
            "text/plain": [
              "0.7200000000000001"
            ]
          },
          "metadata": {},
          "execution_count": 45
        }
      ]
    },
    {
      "cell_type": "code",
      "source": [
        "svm_rnd_search_cv.best_estimator_.fit(X_train, y_train)"
      ],
      "metadata": {
        "colab": {
          "base_uri": "https://localhost:8080/"
        },
        "id": "0foNXB-GIesu",
        "outputId": "8d30f21a-a03d-40df-a709-5a11dd5c5b3b"
      },
      "id": "0foNXB-GIesu",
      "execution_count": 46,
      "outputs": [
        {
          "output_type": "execute_result",
          "data": {
            "text/plain": [
              "SVC(C=9.480966142562474, gamma=0.07345518181694705)"
            ]
          },
          "metadata": {},
          "execution_count": 46
        }
      ]
    },
    {
      "cell_type": "code",
      "source": [
        "svm_y_pred = svm_rnd_search_cv.best_estimator_.predict(X_train)\n",
        "svm_mse = mean_squared_error(y_train, svm_y_pred)\n",
        "np.sqrt(svm_mse)"
      ],
      "metadata": {
        "colab": {
          "base_uri": "https://localhost:8080/"
        },
        "id": "KiofhUUIJNkF",
        "outputId": "e9d096b4-49ec-4c00-cce7-58f5e8b57e1c"
      },
      "id": "KiofhUUIJNkF",
      "execution_count": 47,
      "outputs": [
        {
          "output_type": "execute_result",
          "data": {
            "text/plain": [
              "0.4381780460041329"
            ]
          },
          "metadata": {},
          "execution_count": 47
        }
      ]
    },
    {
      "cell_type": "code",
      "source": [
        "svm_y_pred = svm_rnd_search_cv.best_estimator_.predict(X_test)\n",
        "svm_mse = mean_squared_error(y_test, svm_y_pred)\n",
        "np.sqrt(svm_mse)"
      ],
      "metadata": {
        "colab": {
          "base_uri": "https://localhost:8080/"
        },
        "id": "NoE2x3kFJPcN",
        "outputId": "85d03d7d-f340-4c89-bc78-3276b129c3ac"
      },
      "id": "NoE2x3kFJPcN",
      "execution_count": 48,
      "outputs": [
        {
          "output_type": "execute_result",
          "data": {
            "text/plain": [
              "0.4979959839195493"
            ]
          },
          "metadata": {},
          "execution_count": 48
        }
      ]
    },
    {
      "cell_type": "code",
      "source": [
        "svm_y_pred = svm_rnd_search_cv.best_estimator_.predict(X_test)\n",
        "print(accuracy_score(y_test,svm_y_pred))\n",
        "print(\"\\n\")\n",
        "print(confusion_matrix(y_test, svm_y_pred))\n",
        "print(\"\\n\")\n",
        "print(classification_report(y_test, svm_y_pred))"
      ],
      "metadata": {
        "colab": {
          "base_uri": "https://localhost:8080/"
        },
        "id": "LPD-zwWBJRK1",
        "outputId": "39f5bbdb-eb74-4515-a253-a56d2f4c45db"
      },
      "id": "LPD-zwWBJRK1",
      "execution_count": 49,
      "outputs": [
        {
          "output_type": "stream",
          "name": "stdout",
          "text": [
            "0.752\n",
            "\n",
            "\n",
            "[[157  21]\n",
            " [ 41  31]]\n",
            "\n",
            "\n",
            "              precision    recall  f1-score   support\n",
            "\n",
            "           0       0.79      0.88      0.84       178\n",
            "           1       0.60      0.43      0.50        72\n",
            "\n",
            "    accuracy                           0.75       250\n",
            "   macro avg       0.69      0.66      0.67       250\n",
            "weighted avg       0.74      0.75      0.74       250\n",
            "\n"
          ]
        }
      ]
    },
    {
      "cell_type": "markdown",
      "source": [
        "# Naive Bayes\n"
      ],
      "metadata": {
        "id": "898Y-I8zNk-u"
      },
      "id": "898Y-I8zNk-u"
    },
    {
      "cell_type": "code",
      "source": [
        "nbModel =  GaussianNB()\n",
        "\n",
        "nb_param_distributions = {'var_smoothing': np.logspace(0,-9, num=100)}\n",
        "\n",
        "nb_rnd_search_cv = RandomizedSearchCV(nbModel, nb_param_distributions, n_iter=10, verbose=2, cv=3)\n",
        "\n",
        "nb_rnd_search_cv.fit(X_train, y_train)"
      ],
      "metadata": {
        "colab": {
          "base_uri": "https://localhost:8080/"
        },
        "id": "j82LiDwONwi8",
        "outputId": "0c6c2cbf-8188-44c8-f99c-f29a97d26896"
      },
      "id": "j82LiDwONwi8",
      "execution_count": 64,
      "outputs": [
        {
          "output_type": "stream",
          "name": "stdout",
          "text": [
            "Fitting 3 folds for each of 10 candidates, totalling 30 fits\n",
            "[CV] END ................var_smoothing=6.579332246575682e-08; total time=   0.0s\n",
            "[CV] END ................var_smoothing=6.579332246575682e-08; total time=   0.0s\n",
            "[CV] END ................var_smoothing=6.579332246575682e-08; total time=   0.0s\n",
            "[CV] END ................................var_smoothing=1e-09; total time=   0.0s\n",
            "[CV] END ................................var_smoothing=1e-09; total time=   0.0s\n",
            "[CV] END ................................var_smoothing=1e-09; total time=   0.0s\n",
            "[CV] END ...............var_smoothing=5.3366992312063123e-05; total time=   0.0s\n",
            "[CV] END ...............var_smoothing=5.3366992312063123e-05; total time=   0.0s\n",
            "[CV] END ...............var_smoothing=5.3366992312063123e-05; total time=   0.0s\n",
            "[CV] END ................................var_smoothing=1e-07; total time=   0.0s\n",
            "[CV] END ................................var_smoothing=1e-07; total time=   0.0s\n",
            "[CV] END ................................var_smoothing=1e-07; total time=   0.0s\n",
            "[CV] END ...................var_smoothing=0.3511191734215131; total time=   0.0s\n",
            "[CV] END ...................var_smoothing=0.3511191734215131; total time=   0.0s\n",
            "[CV] END ...................var_smoothing=0.3511191734215131; total time=   0.0s\n",
            "[CV] END ..................................var_smoothing=1.0; total time=   0.0s\n",
            "[CV] END ..................................var_smoothing=1.0; total time=   0.0s\n",
            "[CV] END ..................................var_smoothing=1.0; total time=   0.0s\n",
            "[CV] END ................var_smoothing=0.0004328761281083057; total time=   0.0s\n",
            "[CV] END ................var_smoothing=0.0004328761281083057; total time=   0.0s\n",
            "[CV] END ................var_smoothing=0.0004328761281083057; total time=   0.0s\n",
            "[CV] END ..................var_smoothing=0.04328761281083057; total time=   0.0s\n",
            "[CV] END ..................var_smoothing=0.04328761281083057; total time=   0.0s\n",
            "[CV] END ..................var_smoothing=0.04328761281083057; total time=   0.0s\n",
            "[CV] END ................var_smoothing=2.848035868435799e-05; total time=   0.0s\n",
            "[CV] END ................var_smoothing=2.848035868435799e-05; total time=   0.0s\n",
            "[CV] END ................var_smoothing=2.848035868435799e-05; total time=   0.0s\n",
            "[CV] END ..................var_smoothing=0.02848035868435802; total time=   0.0s\n",
            "[CV] END ..................var_smoothing=0.02848035868435802; total time=   0.0s\n",
            "[CV] END ..................var_smoothing=0.02848035868435802; total time=   0.0s\n"
          ]
        },
        {
          "output_type": "execute_result",
          "data": {
            "text/plain": [
              "RandomizedSearchCV(cv=3, estimator=GaussianNB(),\n",
              "                   param_distributions={'var_smoothing': array([1.00000000e+00, 8.11130831e-01, 6.57933225e-01, 5.33669923e-01,\n",
              "       4.32876128e-01, 3.51119173e-01, 2.84803587e-01, 2.31012970e-01,\n",
              "       1.87381742e-01, 1.51991108e-01, 1.23284674e-01, 1.00000000e-01,\n",
              "       8.11130831e-02, 6.57933225e-02, 5.33669923e-02, 4.32876128e-02,\n",
              "       3.51119173e-02, 2.84...\n",
              "       1.23284674e-07, 1.00000000e-07, 8.11130831e-08, 6.57933225e-08,\n",
              "       5.33669923e-08, 4.32876128e-08, 3.51119173e-08, 2.84803587e-08,\n",
              "       2.31012970e-08, 1.87381742e-08, 1.51991108e-08, 1.23284674e-08,\n",
              "       1.00000000e-08, 8.11130831e-09, 6.57933225e-09, 5.33669923e-09,\n",
              "       4.32876128e-09, 3.51119173e-09, 2.84803587e-09, 2.31012970e-09,\n",
              "       1.87381742e-09, 1.51991108e-09, 1.23284674e-09, 1.00000000e-09])},\n",
              "                   verbose=2)"
            ]
          },
          "metadata": {},
          "execution_count": 64
        }
      ]
    },
    {
      "cell_type": "code",
      "source": [
        "nb_rnd_search_cv.best_estimator_"
      ],
      "metadata": {
        "colab": {
          "base_uri": "https://localhost:8080/"
        },
        "id": "od2vQagxdCFl",
        "outputId": "9124fc8d-1f55-4b55-eb90-c3528d5e52b3"
      },
      "id": "od2vQagxdCFl",
      "execution_count": 65,
      "outputs": [
        {
          "output_type": "execute_result",
          "data": {
            "text/plain": [
              "GaussianNB(var_smoothing=0.3511191734215131)"
            ]
          },
          "metadata": {},
          "execution_count": 65
        }
      ]
    },
    {
      "cell_type": "code",
      "source": [
        "nb_rnd_search_cv.best_score_"
      ],
      "metadata": {
        "colab": {
          "base_uri": "https://localhost:8080/"
        },
        "id": "iC6AIDUOdHyq",
        "outputId": "ccd07b15-63c8-4cb0-f5b2-94a689931201"
      },
      "id": "iC6AIDUOdHyq",
      "execution_count": 66,
      "outputs": [
        {
          "output_type": "execute_result",
          "data": {
            "text/plain": [
              "0.7319999999999999"
            ]
          },
          "metadata": {},
          "execution_count": 66
        }
      ]
    },
    {
      "cell_type": "code",
      "source": [
        "nb_rnd_search_cv.best_estimator_.fit(X_train, y_train)"
      ],
      "metadata": {
        "colab": {
          "base_uri": "https://localhost:8080/"
        },
        "id": "7fCAV0MsdJnZ",
        "outputId": "f480750c-40c5-4d53-f993-59f64bc58973"
      },
      "id": "7fCAV0MsdJnZ",
      "execution_count": 67,
      "outputs": [
        {
          "output_type": "execute_result",
          "data": {
            "text/plain": [
              "GaussianNB(var_smoothing=0.3511191734215131)"
            ]
          },
          "metadata": {},
          "execution_count": 67
        }
      ]
    },
    {
      "cell_type": "code",
      "source": [
        "nb_y_pred = nb_rnd_search_cv.best_estimator_.predict(X_train)\n",
        "nb_mse = mean_squared_error(y_train, nb_y_pred)\n",
        "np.sqrt(nb_mse)"
      ],
      "metadata": {
        "colab": {
          "base_uri": "https://localhost:8080/"
        },
        "id": "7tvgNQFYdMqB",
        "outputId": "861b5a81-3539-46e3-9a2f-175902874605"
      },
      "id": "7tvgNQFYdMqB",
      "execution_count": 68,
      "outputs": [
        {
          "output_type": "execute_result",
          "data": {
            "text/plain": [
              "0.5163977794943222"
            ]
          },
          "metadata": {},
          "execution_count": 68
        }
      ]
    },
    {
      "cell_type": "code",
      "source": [
        "nb_y_pred = nb_rnd_search_cv.best_estimator_.predict(X_test)\n",
        "nb_mse = mean_squared_error(y_test, nb_y_pred)\n",
        "np.sqrt(nb_mse)"
      ],
      "metadata": {
        "colab": {
          "base_uri": "https://localhost:8080/"
        },
        "id": "Ig6p4ZacdOca",
        "outputId": "66ba43ff-2e69-4110-a3c2-d0e6aeb81da6"
      },
      "id": "Ig6p4ZacdOca",
      "execution_count": 69,
      "outputs": [
        {
          "output_type": "execute_result",
          "data": {
            "text/plain": [
              "0.5253570214625479"
            ]
          },
          "metadata": {},
          "execution_count": 69
        }
      ]
    },
    {
      "cell_type": "code",
      "source": [
        "nb_y_pred = nb_rnd_search_cv.best_estimator_.predict(X_test)\n",
        "print(accuracy_score(y_test,nb_y_pred))\n",
        "print(\"\\n\")\n",
        "print(confusion_matrix(y_test, nb_y_pred))\n",
        "print(\"\\n\")\n",
        "print(classification_report(y_test, nb_y_pred))"
      ],
      "metadata": {
        "colab": {
          "base_uri": "https://localhost:8080/"
        },
        "id": "SCkIY4VudPla",
        "outputId": "93bd33a9-1622-47e4-e946-6cfe9d659026"
      },
      "id": "SCkIY4VudPla",
      "execution_count": 70,
      "outputs": [
        {
          "output_type": "stream",
          "name": "stdout",
          "text": [
            "0.724\n",
            "\n",
            "\n",
            "[[159  19]\n",
            " [ 50  22]]\n",
            "\n",
            "\n",
            "              precision    recall  f1-score   support\n",
            "\n",
            "           0       0.76      0.89      0.82       178\n",
            "           1       0.54      0.31      0.39        72\n",
            "\n",
            "    accuracy                           0.72       250\n",
            "   macro avg       0.65      0.60      0.61       250\n",
            "weighted avg       0.70      0.72      0.70       250\n",
            "\n"
          ]
        }
      ]
    },
    {
      "cell_type": "markdown",
      "source": [
        "# Decision Tree\n"
      ],
      "metadata": {
        "id": "IlAk9wxlAnU9"
      },
      "id": "IlAk9wxlAnU9"
    },
    {
      "cell_type": "code",
      "source": [
        "dtModel = DecisionTreeClassifier()\n",
        "\n",
        "dt_param_distributions = {\"max_depth\": [3, None],\n",
        "              \"max_features\": randint(1, 9),\n",
        "              \"min_samples_leaf\": randint(1, 9),\n",
        "              \"criterion\": [\"gini\", \"entropy\", \"log_loss\"]}\n",
        "\n",
        "dt_rnd_search_cv = RandomizedSearchCV(dtModel, dt_param_distributions, n_iter=10, verbose=2, cv=3)\n",
        "\n",
        "dt_rnd_search_cv.fit(X_train, y_train)"
      ],
      "metadata": {
        "colab": {
          "base_uri": "https://localhost:8080/"
        },
        "id": "88ATNiagAsNT",
        "outputId": "5e6ac58a-929c-4202-b968-bac4268a0f34"
      },
      "id": "88ATNiagAsNT",
      "execution_count": 81,
      "outputs": [
        {
          "output_type": "stream",
          "name": "stdout",
          "text": [
            "Fitting 3 folds for each of 10 candidates, totalling 30 fits\n",
            "[CV] END criterion=log_loss, max_depth=None, max_features=7, min_samples_leaf=1; total time=   0.0s\n",
            "[CV] END criterion=log_loss, max_depth=None, max_features=7, min_samples_leaf=1; total time=   0.0s\n",
            "[CV] END criterion=log_loss, max_depth=None, max_features=7, min_samples_leaf=1; total time=   0.0s\n",
            "[CV] END criterion=entropy, max_depth=3, max_features=3, min_samples_leaf=6; total time=   0.0s\n",
            "[CV] END criterion=entropy, max_depth=3, max_features=3, min_samples_leaf=6; total time=   0.0s\n",
            "[CV] END criterion=entropy, max_depth=3, max_features=3, min_samples_leaf=6; total time=   0.0s\n",
            "[CV] END criterion=log_loss, max_depth=3, max_features=2, min_samples_leaf=1; total time=   0.0s\n",
            "[CV] END criterion=log_loss, max_depth=3, max_features=2, min_samples_leaf=1; total time=   0.0s\n",
            "[CV] END criterion=log_loss, max_depth=3, max_features=2, min_samples_leaf=1; total time=   0.0s\n",
            "[CV] END criterion=gini, max_depth=None, max_features=4, min_samples_leaf=3; total time=   0.0s\n",
            "[CV] END criterion=gini, max_depth=None, max_features=4, min_samples_leaf=3; total time=   0.0s\n",
            "[CV] END criterion=gini, max_depth=None, max_features=4, min_samples_leaf=3; total time=   0.0s\n",
            "[CV] END criterion=entropy, max_depth=3, max_features=1, min_samples_leaf=7; total time=   0.0s\n",
            "[CV] END criterion=entropy, max_depth=3, max_features=1, min_samples_leaf=7; total time=   0.0s\n",
            "[CV] END criterion=entropy, max_depth=3, max_features=1, min_samples_leaf=7; total time=   0.0s\n",
            "[CV] END criterion=gini, max_depth=None, max_features=5, min_samples_leaf=5; total time=   0.0s\n",
            "[CV] END criterion=gini, max_depth=None, max_features=5, min_samples_leaf=5; total time=   0.0s\n",
            "[CV] END criterion=gini, max_depth=None, max_features=5, min_samples_leaf=5; total time=   0.0s\n",
            "[CV] END criterion=entropy, max_depth=3, max_features=3, min_samples_leaf=7; total time=   0.0s\n",
            "[CV] END criterion=entropy, max_depth=3, max_features=3, min_samples_leaf=7; total time=   0.0s\n",
            "[CV] END criterion=entropy, max_depth=3, max_features=3, min_samples_leaf=7; total time=   0.0s\n",
            "[CV] END criterion=gini, max_depth=None, max_features=4, min_samples_leaf=8; total time=   0.0s\n",
            "[CV] END criterion=gini, max_depth=None, max_features=4, min_samples_leaf=8; total time=   0.0s\n",
            "[CV] END criterion=gini, max_depth=None, max_features=4, min_samples_leaf=8; total time=   0.0s\n",
            "[CV] END criterion=log_loss, max_depth=3, max_features=5, min_samples_leaf=2; total time=   0.0s\n",
            "[CV] END criterion=log_loss, max_depth=3, max_features=5, min_samples_leaf=2; total time=   0.0s\n",
            "[CV] END criterion=log_loss, max_depth=3, max_features=5, min_samples_leaf=2; total time=   0.0s\n",
            "[CV] END criterion=log_loss, max_depth=None, max_features=1, min_samples_leaf=6; total time=   0.0s\n",
            "[CV] END criterion=log_loss, max_depth=None, max_features=1, min_samples_leaf=6; total time=   0.0s\n",
            "[CV] END criterion=log_loss, max_depth=None, max_features=1, min_samples_leaf=6; total time=   0.0s\n"
          ]
        },
        {
          "output_type": "execute_result",
          "data": {
            "text/plain": [
              "RandomizedSearchCV(cv=3, estimator=DecisionTreeClassifier(),\n",
              "                   param_distributions={'criterion': ['gini', 'entropy',\n",
              "                                                      'log_loss'],\n",
              "                                        'max_depth': [3, None],\n",
              "                                        'max_features': <scipy.stats._distn_infrastructure.rv_frozen object at 0x7f54d5821610>,\n",
              "                                        'min_samples_leaf': <scipy.stats._distn_infrastructure.rv_frozen object at 0x7f54d5824050>},\n",
              "                   verbose=2)"
            ]
          },
          "metadata": {},
          "execution_count": 81
        }
      ]
    },
    {
      "cell_type": "code",
      "source": [
        "dt_rnd_search_cv.best_estimator_"
      ],
      "metadata": {
        "colab": {
          "base_uri": "https://localhost:8080/"
        },
        "id": "JCkP1GYpDCY5",
        "outputId": "8f5cd909-ca31-45b0-bd5c-5d16f500d16f"
      },
      "id": "JCkP1GYpDCY5",
      "execution_count": 82,
      "outputs": [
        {
          "output_type": "execute_result",
          "data": {
            "text/plain": [
              "DecisionTreeClassifier(max_features=4, min_samples_leaf=8)"
            ]
          },
          "metadata": {},
          "execution_count": 82
        }
      ]
    },
    {
      "cell_type": "code",
      "source": [
        "dt_rnd_search_cv.best_score_"
      ],
      "metadata": {
        "colab": {
          "base_uri": "https://localhost:8080/"
        },
        "id": "UXNLxKcmDJe1",
        "outputId": "41e88c45-fde7-4ef7-d514-4d132537629c"
      },
      "id": "UXNLxKcmDJe1",
      "execution_count": 83,
      "outputs": [
        {
          "output_type": "execute_result",
          "data": {
            "text/plain": [
              "0.6973333333333334"
            ]
          },
          "metadata": {},
          "execution_count": 83
        }
      ]
    },
    {
      "cell_type": "code",
      "source": [
        "dt_rnd_search_cv.best_estimator_.fit(X_train, y_train)"
      ],
      "metadata": {
        "colab": {
          "base_uri": "https://localhost:8080/"
        },
        "id": "PzaDg9sWDQuh",
        "outputId": "46f07e19-c738-4139-a816-648172856b0c"
      },
      "id": "PzaDg9sWDQuh",
      "execution_count": 84,
      "outputs": [
        {
          "output_type": "execute_result",
          "data": {
            "text/plain": [
              "DecisionTreeClassifier(max_features=4, min_samples_leaf=8)"
            ]
          },
          "metadata": {},
          "execution_count": 84
        }
      ]
    },
    {
      "cell_type": "code",
      "source": [
        "dt_y_pred = dt_rnd_search_cv.best_estimator_.predict(X_train)\n",
        "dt_mse = mean_squared_error(y_train, dt_y_pred)\n",
        "np.sqrt(dt_mse)"
      ],
      "metadata": {
        "colab": {
          "base_uri": "https://localhost:8080/"
        },
        "id": "5wsQC1aWDZft",
        "outputId": "4976577e-ad95-456a-ebdb-ae0985a74d9e"
      },
      "id": "5wsQC1aWDZft",
      "execution_count": 85,
      "outputs": [
        {
          "output_type": "execute_result",
          "data": {
            "text/plain": [
              "0.4774934554525329"
            ]
          },
          "metadata": {},
          "execution_count": 85
        }
      ]
    },
    {
      "cell_type": "code",
      "source": [
        "dt_y_pred = dt_rnd_search_cv.best_estimator_.predict(X_test)\n",
        "dt_mse = mean_squared_error(y_test, dt_y_pred)\n",
        "np.sqrt(dt_mse)"
      ],
      "metadata": {
        "colab": {
          "base_uri": "https://localhost:8080/"
        },
        "id": "xsEI6MiAVcxk",
        "outputId": "394fc6ff-c6c7-41a9-9daa-3ec09c7abd64"
      },
      "id": "xsEI6MiAVcxk",
      "execution_count": 86,
      "outputs": [
        {
          "output_type": "execute_result",
          "data": {
            "text/plain": [
              "0.5099019513592785"
            ]
          },
          "metadata": {},
          "execution_count": 86
        }
      ]
    },
    {
      "cell_type": "code",
      "source": [
        "dt_y_pred = dt_rnd_search_cv.best_estimator_.predict(X_test)\n",
        "print(accuracy_score(y_test,dt_y_pred))\n",
        "print(\"\\n\")\n",
        "print(confusion_matrix(y_test, dt_y_pred))\n",
        "print(\"\\n\")\n",
        "print(classification_report(y_test, dt_y_pred))"
      ],
      "metadata": {
        "colab": {
          "base_uri": "https://localhost:8080/"
        },
        "id": "USJ3Pq6NDbrC",
        "outputId": "5bc3e3ea-abbc-458f-9e11-42e6aaea0afb"
      },
      "id": "USJ3Pq6NDbrC",
      "execution_count": 87,
      "outputs": [
        {
          "output_type": "stream",
          "name": "stdout",
          "text": [
            "0.74\n",
            "\n",
            "\n",
            "[[162  16]\n",
            " [ 49  23]]\n",
            "\n",
            "\n",
            "              precision    recall  f1-score   support\n",
            "\n",
            "           0       0.77      0.91      0.83       178\n",
            "           1       0.59      0.32      0.41        72\n",
            "\n",
            "    accuracy                           0.74       250\n",
            "   macro avg       0.68      0.61      0.62       250\n",
            "weighted avg       0.72      0.74      0.71       250\n",
            "\n"
          ]
        }
      ]
    },
    {
      "cell_type": "markdown",
      "source": [
        "# XGBooster"
      ],
      "metadata": {
        "id": "Tq4koSdeFGwH"
      },
      "id": "Tq4koSdeFGwH"
    },
    {
      "cell_type": "code",
      "source": [
        "xgModel = XGBClassifier()\n",
        "\n",
        "xgb_param_distributions = { \"learning_rate\" : [0.05,0.10,0.15,0.20,0.25,0.30],\n",
        " \"max_depth\" : [ 3, 4, 5, 6, 8, 10, 12, 15],\n",
        " \"min_child_weight\" : [ 1, 3, 5, 7 ],\n",
        " \"gamma\": [ 0.0, 0.1, 0.2 , 0.3, 0.4 ],\n",
        " \"colsample_bytree\" : [ 0.3, 0.4, 0.5 , 0.7 ]}\n",
        "\n",
        "xg_rnd_search_cv = RandomizedSearchCV(xgModel, xgb_param_distributions, n_iter=10, verbose=2, cv=3)\n",
        "\n",
        "xg_rnd_search_cv.fit(X_train, y_train)"
      ],
      "metadata": {
        "id": "oMZhtv7lEPn8",
        "colab": {
          "base_uri": "https://localhost:8080/"
        },
        "outputId": "c3f907fe-6f8a-4d8c-f96e-313c1a2876df"
      },
      "id": "oMZhtv7lEPn8",
      "execution_count": 88,
      "outputs": [
        {
          "output_type": "stream",
          "name": "stdout",
          "text": [
            "Fitting 3 folds for each of 10 candidates, totalling 30 fits\n",
            "[CV] END colsample_bytree=0.4, gamma=0.0, learning_rate=0.2, max_depth=8, min_child_weight=7; total time=   0.1s\n",
            "[CV] END colsample_bytree=0.4, gamma=0.0, learning_rate=0.2, max_depth=8, min_child_weight=7; total time=   0.1s\n",
            "[CV] END colsample_bytree=0.4, gamma=0.0, learning_rate=0.2, max_depth=8, min_child_weight=7; total time=   0.1s\n",
            "[CV] END colsample_bytree=0.7, gamma=0.4, learning_rate=0.1, max_depth=6, min_child_weight=1; total time=   0.1s\n",
            "[CV] END colsample_bytree=0.7, gamma=0.4, learning_rate=0.1, max_depth=6, min_child_weight=1; total time=   0.1s\n",
            "[CV] END colsample_bytree=0.7, gamma=0.4, learning_rate=0.1, max_depth=6, min_child_weight=1; total time=   0.1s\n",
            "[CV] END colsample_bytree=0.3, gamma=0.2, learning_rate=0.05, max_depth=6, min_child_weight=7; total time=   0.0s\n",
            "[CV] END colsample_bytree=0.3, gamma=0.2, learning_rate=0.05, max_depth=6, min_child_weight=7; total time=   0.0s\n",
            "[CV] END colsample_bytree=0.3, gamma=0.2, learning_rate=0.05, max_depth=6, min_child_weight=7; total time=   0.0s\n",
            "[CV] END colsample_bytree=0.4, gamma=0.4, learning_rate=0.1, max_depth=8, min_child_weight=7; total time=   0.1s\n",
            "[CV] END colsample_bytree=0.4, gamma=0.4, learning_rate=0.1, max_depth=8, min_child_weight=7; total time=   0.1s\n",
            "[CV] END colsample_bytree=0.4, gamma=0.4, learning_rate=0.1, max_depth=8, min_child_weight=7; total time=   0.1s\n",
            "[CV] END colsample_bytree=0.5, gamma=0.2, learning_rate=0.1, max_depth=15, min_child_weight=3; total time=   0.1s\n",
            "[CV] END colsample_bytree=0.5, gamma=0.2, learning_rate=0.1, max_depth=15, min_child_weight=3; total time=   0.1s\n",
            "[CV] END colsample_bytree=0.5, gamma=0.2, learning_rate=0.1, max_depth=15, min_child_weight=3; total time=   0.1s\n",
            "[CV] END colsample_bytree=0.4, gamma=0.2, learning_rate=0.1, max_depth=10, min_child_weight=7; total time=   0.1s\n",
            "[CV] END colsample_bytree=0.4, gamma=0.2, learning_rate=0.1, max_depth=10, min_child_weight=7; total time=   0.1s\n",
            "[CV] END colsample_bytree=0.4, gamma=0.2, learning_rate=0.1, max_depth=10, min_child_weight=7; total time=   0.1s\n",
            "[CV] END colsample_bytree=0.7, gamma=0.2, learning_rate=0.3, max_depth=5, min_child_weight=3; total time=   0.1s\n",
            "[CV] END colsample_bytree=0.7, gamma=0.2, learning_rate=0.3, max_depth=5, min_child_weight=3; total time=   0.1s\n",
            "[CV] END colsample_bytree=0.7, gamma=0.2, learning_rate=0.3, max_depth=5, min_child_weight=3; total time=   0.1s\n",
            "[CV] END colsample_bytree=0.7, gamma=0.3, learning_rate=0.05, max_depth=12, min_child_weight=7; total time=   0.1s\n",
            "[CV] END colsample_bytree=0.7, gamma=0.3, learning_rate=0.05, max_depth=12, min_child_weight=7; total time=   0.1s\n",
            "[CV] END colsample_bytree=0.7, gamma=0.3, learning_rate=0.05, max_depth=12, min_child_weight=7; total time=   0.1s\n",
            "[CV] END colsample_bytree=0.5, gamma=0.3, learning_rate=0.15, max_depth=3, min_child_weight=7; total time=   0.0s\n",
            "[CV] END colsample_bytree=0.5, gamma=0.3, learning_rate=0.15, max_depth=3, min_child_weight=7; total time=   0.0s\n",
            "[CV] END colsample_bytree=0.5, gamma=0.3, learning_rate=0.15, max_depth=3, min_child_weight=7; total time=   0.0s\n",
            "[CV] END colsample_bytree=0.4, gamma=0.4, learning_rate=0.3, max_depth=8, min_child_weight=1; total time=   0.1s\n",
            "[CV] END colsample_bytree=0.4, gamma=0.4, learning_rate=0.3, max_depth=8, min_child_weight=1; total time=   0.1s\n",
            "[CV] END colsample_bytree=0.4, gamma=0.4, learning_rate=0.3, max_depth=8, min_child_weight=1; total time=   0.1s\n"
          ]
        },
        {
          "output_type": "execute_result",
          "data": {
            "text/plain": [
              "RandomizedSearchCV(cv=3, estimator=XGBClassifier(),\n",
              "                   param_distributions={'colsample_bytree': [0.3, 0.4, 0.5,\n",
              "                                                             0.7],\n",
              "                                        'gamma': [0.0, 0.1, 0.2, 0.3, 0.4],\n",
              "                                        'learning_rate': [0.05, 0.1, 0.15, 0.2,\n",
              "                                                          0.25, 0.3],\n",
              "                                        'max_depth': [3, 4, 5, 6, 8, 10, 12,\n",
              "                                                      15],\n",
              "                                        'min_child_weight': [1, 3, 5, 7]},\n",
              "                   verbose=2)"
            ]
          },
          "metadata": {},
          "execution_count": 88
        }
      ]
    },
    {
      "cell_type": "code",
      "source": [
        "xg_rnd_search_cv.best_estimator_"
      ],
      "metadata": {
        "colab": {
          "base_uri": "https://localhost:8080/"
        },
        "id": "KHxJAcEYT6Gl",
        "outputId": "bf603354-3754-456b-c688-19abedce6a7c"
      },
      "id": "KHxJAcEYT6Gl",
      "execution_count": 89,
      "outputs": [
        {
          "output_type": "execute_result",
          "data": {
            "text/plain": [
              "XGBClassifier(colsample_bytree=0.5, gamma=0.3, learning_rate=0.15,\n",
              "              min_child_weight=7)"
            ]
          },
          "metadata": {},
          "execution_count": 89
        }
      ]
    },
    {
      "cell_type": "code",
      "source": [
        "xg_rnd_search_cv.best_score_"
      ],
      "metadata": {
        "colab": {
          "base_uri": "https://localhost:8080/"
        },
        "id": "Fnz16lJdT8Zt",
        "outputId": "2e0dc7af-5927-42e5-c815-dd3ab0538a3e"
      },
      "id": "Fnz16lJdT8Zt",
      "execution_count": 90,
      "outputs": [
        {
          "output_type": "execute_result",
          "data": {
            "text/plain": [
              "0.7293333333333333"
            ]
          },
          "metadata": {},
          "execution_count": 90
        }
      ]
    },
    {
      "cell_type": "code",
      "source": [
        "xg_rnd_search_cv.best_estimator_.fit(X_train, y_train)"
      ],
      "metadata": {
        "colab": {
          "base_uri": "https://localhost:8080/"
        },
        "id": "RCvuCNN_URsj",
        "outputId": "166fbec7-4ccd-43e9-e48d-dfea741e47ac"
      },
      "id": "RCvuCNN_URsj",
      "execution_count": 91,
      "outputs": [
        {
          "output_type": "execute_result",
          "data": {
            "text/plain": [
              "XGBClassifier(colsample_bytree=0.5, gamma=0.3, learning_rate=0.15,\n",
              "              min_child_weight=7)"
            ]
          },
          "metadata": {},
          "execution_count": 91
        }
      ]
    },
    {
      "cell_type": "code",
      "source": [
        "xg_y_pred = xg_rnd_search_cv.best_estimator_.predict(X_train)\n",
        "xg_mse = mean_squared_error(y_train, xg_y_pred)\n",
        "np.sqrt(xg_mse)"
      ],
      "metadata": {
        "colab": {
          "base_uri": "https://localhost:8080/"
        },
        "id": "DgDQDLwXUaiV",
        "outputId": "8ce65fe9-65c3-4b30-a885-62ba5d5682a7"
      },
      "id": "DgDQDLwXUaiV",
      "execution_count": 92,
      "outputs": [
        {
          "output_type": "execute_result",
          "data": {
            "text/plain": [
              "0.4131182235954578"
            ]
          },
          "metadata": {},
          "execution_count": 92
        }
      ]
    },
    {
      "cell_type": "code",
      "source": [
        "xg_y_pred = xg_rnd_search_cv.best_estimator_.predict(X_test)\n",
        "xg_mse = mean_squared_error(y_test, xg_y_pred)\n",
        "np.sqrt(xg_mse)"
      ],
      "metadata": {
        "colab": {
          "base_uri": "https://localhost:8080/"
        },
        "id": "y0BYbbeuVn3W",
        "outputId": "3b6011b4-b0a5-4282-9600-f680f98e671a"
      },
      "id": "y0BYbbeuVn3W",
      "execution_count": 93,
      "outputs": [
        {
          "output_type": "execute_result",
          "data": {
            "text/plain": [
              "0.5059644256269407"
            ]
          },
          "metadata": {},
          "execution_count": 93
        }
      ]
    },
    {
      "cell_type": "code",
      "source": [
        "xg_y_pred = xg_rnd_search_cv.best_estimator_.predict(X_test)\n",
        "print(accuracy_score(y_test,xg_y_pred))\n",
        "print(\"\\n\")\n",
        "print(confusion_matrix(y_test, xg_y_pred))\n",
        "print(\"\\n\")\n",
        "print(classification_report(y_test, xg_y_pred))"
      ],
      "metadata": {
        "colab": {
          "base_uri": "https://localhost:8080/"
        },
        "id": "4-xKj58qU7ui",
        "outputId": "c2d2447a-ae34-45a3-b2ce-0f33380cb13c"
      },
      "id": "4-xKj58qU7ui",
      "execution_count": 94,
      "outputs": [
        {
          "output_type": "stream",
          "name": "stdout",
          "text": [
            "0.744\n",
            "\n",
            "\n",
            "[[161  17]\n",
            " [ 47  25]]\n",
            "\n",
            "\n",
            "              precision    recall  f1-score   support\n",
            "\n",
            "           0       0.77      0.90      0.83       178\n",
            "           1       0.60      0.35      0.44        72\n",
            "\n",
            "    accuracy                           0.74       250\n",
            "   macro avg       0.68      0.63      0.64       250\n",
            "weighted avg       0.72      0.74      0.72       250\n",
            "\n"
          ]
        }
      ]
    },
    {
      "cell_type": "markdown",
      "source": [
        "# K Neighbors Classifier\n"
      ],
      "metadata": {
        "id": "DIkTiChgWUmE"
      },
      "id": "DIkTiChgWUmE"
    },
    {
      "cell_type": "code",
      "source": [
        "knnModel = KNeighborsClassifier()\n",
        "\n",
        "knn_param_distributions = {'n_neighbors' : [5,7,9,11,13,15],\n",
        "               'weights' : ['uniform','distance'],\n",
        "               'metric' : ['minkowski','euclidean','manhattan']}\n",
        "\n",
        "knn_rnd_search_cv = RandomizedSearchCV(knnModel, knn_param_distributions, n_iter=10, verbose=2, cv=3) # verbose = 1, cv=3, n_jobs = -1\n",
        "\n",
        "knn_rnd_search_cv.fit(X_train, y_train)"
      ],
      "metadata": {
        "colab": {
          "base_uri": "https://localhost:8080/"
        },
        "id": "il2QVEeGWYna",
        "outputId": "57e94974-276a-40ee-97cf-a2f47cae194d"
      },
      "id": "il2QVEeGWYna",
      "execution_count": 95,
      "outputs": [
        {
          "output_type": "stream",
          "name": "stdout",
          "text": [
            "Fitting 3 folds for each of 10 candidates, totalling 30 fits\n",
            "[CV] END ..metric=minkowski, n_neighbors=15, weights=uniform; total time=   0.0s\n",
            "[CV] END ..metric=minkowski, n_neighbors=15, weights=uniform; total time=   0.0s\n",
            "[CV] END ..metric=minkowski, n_neighbors=15, weights=uniform; total time=   0.0s\n",
            "[CV] END ...metric=minkowski, n_neighbors=5, weights=uniform; total time=   0.0s\n",
            "[CV] END ...metric=minkowski, n_neighbors=5, weights=uniform; total time=   0.0s\n",
            "[CV] END ...metric=minkowski, n_neighbors=5, weights=uniform; total time=   0.0s\n",
            "[CV] END ...metric=minkowski, n_neighbors=7, weights=uniform; total time=   0.0s\n",
            "[CV] END ...metric=minkowski, n_neighbors=7, weights=uniform; total time=   0.0s\n",
            "[CV] END ...metric=minkowski, n_neighbors=7, weights=uniform; total time=   0.0s\n",
            "[CV] END ..metric=euclidean, n_neighbors=11, weights=uniform; total time=   0.0s\n",
            "[CV] END ..metric=euclidean, n_neighbors=11, weights=uniform; total time=   0.0s\n",
            "[CV] END ..metric=euclidean, n_neighbors=11, weights=uniform; total time=   0.0s\n",
            "[CV] END ..metric=minkowski, n_neighbors=9, weights=distance; total time=   0.0s\n",
            "[CV] END ..metric=minkowski, n_neighbors=9, weights=distance; total time=   0.0s\n",
            "[CV] END ..metric=minkowski, n_neighbors=9, weights=distance; total time=   0.0s\n",
            "[CV] END ..metric=euclidean, n_neighbors=15, weights=uniform; total time=   0.0s\n",
            "[CV] END ..metric=euclidean, n_neighbors=15, weights=uniform; total time=   0.0s\n",
            "[CV] END ..metric=euclidean, n_neighbors=15, weights=uniform; total time=   0.0s\n",
            "[CV] END .metric=euclidean, n_neighbors=13, weights=distance; total time=   0.0s\n",
            "[CV] END .metric=euclidean, n_neighbors=13, weights=distance; total time=   0.0s\n",
            "[CV] END .metric=euclidean, n_neighbors=13, weights=distance; total time=   0.0s\n",
            "[CV] END ..metric=manhattan, n_neighbors=11, weights=uniform; total time=   0.0s\n",
            "[CV] END ..metric=manhattan, n_neighbors=11, weights=uniform; total time=   0.0s\n",
            "[CV] END ..metric=manhattan, n_neighbors=11, weights=uniform; total time=   0.0s\n",
            "[CV] END ...metric=euclidean, n_neighbors=9, weights=uniform; total time=   0.0s\n",
            "[CV] END ...metric=euclidean, n_neighbors=9, weights=uniform; total time=   0.0s\n",
            "[CV] END ...metric=euclidean, n_neighbors=9, weights=uniform; total time=   0.0s\n",
            "[CV] END ..metric=manhattan, n_neighbors=9, weights=distance; total time=   0.0s\n",
            "[CV] END ..metric=manhattan, n_neighbors=9, weights=distance; total time=   0.0s\n",
            "[CV] END ..metric=manhattan, n_neighbors=9, weights=distance; total time=   0.0s\n"
          ]
        },
        {
          "output_type": "execute_result",
          "data": {
            "text/plain": [
              "RandomizedSearchCV(cv=3, estimator=KNeighborsClassifier(),\n",
              "                   param_distributions={'metric': ['minkowski', 'euclidean',\n",
              "                                                   'manhattan'],\n",
              "                                        'n_neighbors': [5, 7, 9, 11, 13, 15],\n",
              "                                        'weights': ['uniform', 'distance']},\n",
              "                   verbose=2)"
            ]
          },
          "metadata": {},
          "execution_count": 95
        }
      ]
    },
    {
      "cell_type": "code",
      "source": [
        "knn_rnd_search_cv.best_estimator_"
      ],
      "metadata": {
        "colab": {
          "base_uri": "https://localhost:8080/"
        },
        "id": "OpeqbHAAXxTV",
        "outputId": "6201f88d-7ff4-4085-94a2-68376bb88e53"
      },
      "id": "OpeqbHAAXxTV",
      "execution_count": 96,
      "outputs": [
        {
          "output_type": "execute_result",
          "data": {
            "text/plain": [
              "KNeighborsClassifier(metric='manhattan', n_neighbors=9, weights='distance')"
            ]
          },
          "metadata": {},
          "execution_count": 96
        }
      ]
    },
    {
      "cell_type": "code",
      "source": [
        "knn_rnd_search_cv.best_score_"
      ],
      "metadata": {
        "colab": {
          "base_uri": "https://localhost:8080/"
        },
        "id": "IuqAcaxuXzH1",
        "outputId": "4cd91349-cdf4-4a26-a9e5-efe8e6fd072b"
      },
      "id": "IuqAcaxuXzH1",
      "execution_count": 97,
      "outputs": [
        {
          "output_type": "execute_result",
          "data": {
            "text/plain": [
              "0.7293333333333333"
            ]
          },
          "metadata": {},
          "execution_count": 97
        }
      ]
    },
    {
      "cell_type": "code",
      "source": [
        "knn_rnd_search_cv.best_estimator_.fit(X_train, y_train)"
      ],
      "metadata": {
        "colab": {
          "base_uri": "https://localhost:8080/"
        },
        "id": "SjpZETuyX0ns",
        "outputId": "42c909dc-ff96-4274-d037-0de1937098ad"
      },
      "id": "SjpZETuyX0ns",
      "execution_count": 98,
      "outputs": [
        {
          "output_type": "execute_result",
          "data": {
            "text/plain": [
              "KNeighborsClassifier(metric='manhattan', n_neighbors=9, weights='distance')"
            ]
          },
          "metadata": {},
          "execution_count": 98
        }
      ]
    },
    {
      "cell_type": "code",
      "source": [
        "knn_y_pred = knn_rnd_search_cv.best_estimator_.predict(X_train)\n",
        "knn_mse = mean_squared_error(y_train, knn_y_pred)\n",
        "np.sqrt(knn_mse)"
      ],
      "metadata": {
        "colab": {
          "base_uri": "https://localhost:8080/"
        },
        "id": "40eUog4gX2O8",
        "outputId": "bdf72541-b840-411c-fee7-432cc8b0020c"
      },
      "id": "40eUog4gX2O8",
      "execution_count": 99,
      "outputs": [
        {
          "output_type": "execute_result",
          "data": {
            "text/plain": [
              "0.0"
            ]
          },
          "metadata": {},
          "execution_count": 99
        }
      ]
    },
    {
      "cell_type": "code",
      "source": [
        "knn_y_pred = knn_rnd_search_cv.best_estimator_.predict(X_test)\n",
        "knn_mse = mean_squared_error(y_test, knn_y_pred)\n",
        "np.sqrt(knn_mse)"
      ],
      "metadata": {
        "colab": {
          "base_uri": "https://localhost:8080/"
        },
        "id": "JqVMFk7tX31E",
        "outputId": "23b5ae7b-8803-4094-8690-9c6648761788"
      },
      "id": "JqVMFk7tX31E",
      "execution_count": 100,
      "outputs": [
        {
          "output_type": "execute_result",
          "data": {
            "text/plain": [
              "0.521536192416212"
            ]
          },
          "metadata": {},
          "execution_count": 100
        }
      ]
    },
    {
      "cell_type": "code",
      "source": [
        "knn_y_pred = knn_rnd_search_cv.best_estimator_.predict(X_test)\n",
        "print(accuracy_score(y_test,knn_y_pred))\n",
        "print(\"\\n\")\n",
        "print(confusion_matrix(y_test, knn_y_pred))\n",
        "print(\"\\n\")\n",
        "print(classification_report(y_test, knn_y_pred))"
      ],
      "metadata": {
        "colab": {
          "base_uri": "https://localhost:8080/"
        },
        "id": "7u2R0S4nX5NU",
        "outputId": "3a2be073-27fa-4897-e6ab-05d3a2ad7373"
      },
      "id": "7u2R0S4nX5NU",
      "execution_count": 101,
      "outputs": [
        {
          "output_type": "stream",
          "name": "stdout",
          "text": [
            "0.728\n",
            "\n",
            "\n",
            "[[156  22]\n",
            " [ 46  26]]\n",
            "\n",
            "\n",
            "              precision    recall  f1-score   support\n",
            "\n",
            "           0       0.77      0.88      0.82       178\n",
            "           1       0.54      0.36      0.43        72\n",
            "\n",
            "    accuracy                           0.73       250\n",
            "   macro avg       0.66      0.62      0.63       250\n",
            "weighted avg       0.71      0.73      0.71       250\n",
            "\n"
          ]
        }
      ]
    }
  ],
  "metadata": {
    "colab": {
      "collapsed_sections": [],
      "name": "German Model.ipynb",
      "provenance": [],
      "include_colab_link": true
    },
    "kernelspec": {
      "display_name": "Python 3 (ipykernel)",
      "language": "python",
      "name": "python3"
    },
    "language_info": {
      "codemirror_mode": {
        "name": "ipython",
        "version": 3
      },
      "file_extension": ".py",
      "mimetype": "text/x-python",
      "name": "python",
      "nbconvert_exporter": "python",
      "pygments_lexer": "ipython3",
      "version": "3.9.12"
    }
  },
  "nbformat": 4,
  "nbformat_minor": 5
}